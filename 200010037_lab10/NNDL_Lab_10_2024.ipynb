{
  "cells": [
    {
      "cell_type": "markdown",
      "metadata": {
        "id": "-RKeacOw3vX9"
      },
      "source": [
        "# LAB 10 : Restricted Boltzmann Machine\n",
        "\n",
        "Name : Hrishikesh Pable\n",
        "\n",
        "Roll Number : 200010037\n",
        "\n",
        "References :\n",
        "\n",
        "1. MNIST Dataset : http://yann.lecun.com/exdb/mnist/\n",
        "2. Movie Lens Dataset : https://grouplens.org/datasets/movielens/\n",
        "3. https://towardsdatascience.com/restricted-boltzmann-machine-how-to-create-a-recommendation-system-for-movie-review-45599a406deb\n",
        "4. https://towardsdatascience.com/restricted-boltzmann-machine-as-a-recommendation-system-for-movie-review-part-2-9a6cab91d85b\n",
        "5. https://github.com/echen/restricted-boltzmann-machines"
      ]
    },
    {
      "cell_type": "markdown",
      "metadata": {
        "id": "7Vtiy88f4ikk"
      },
      "source": [
        "# **Problem 1** : MNIST Digit Classification using RBM + Logistic Regression\n",
        "\n",
        "1. Consider MNIST Digit Dataset\n",
        "2. Use the Bernoulli RBM API from Sci-kit learn package and create a pipeline of RBM network and logistic regression to classify the digits"
      ]
    },
    {
      "cell_type": "markdown",
      "metadata": {
        "id": "TWbtmaWF6AoP"
      },
      "source": [
        "## Write down the Objectives, Hypothesis and Experimental description for the above problem\n"
      ]
    },
    {
      "cell_type": "markdown",
      "metadata": {
        "id": "tHFkTwon6B33"
      },
      "source": []
    },
    {
      "cell_type": "markdown",
      "metadata": {
        "id": "BevdKu8E6CQm"
      },
      "source": [
        "## Programming :\n",
        "  Please write a program to demonstrate the same"
      ]
    },
    {
      "cell_type": "code",
      "execution_count": 4,
      "metadata": {
        "id": "8liOW29M3ucS"
      },
      "outputs": [
        {
          "name": "stdout",
          "output_type": "stream",
          "text": [
            "(60000, 28, 28) (60000,)\n",
            "(10000, 28, 28) (10000,)\n"
          ]
        },
        {
          "data": {
            "image/png": "[encoded data removed]",
            "text/plain": [
              "<Figure size 1000x200 with 10 Axes>"
            ]
          },
          "metadata": {},
          "output_type": "display_data"
        }
      ],
      "source": [
        "# Prepare the data\n",
        "\n",
        "import numpy as np\n",
        "import matplotlib.pyplot as plt\n",
        "\n",
        "# Load the MNIST data\n",
        "from tensorflow.keras.datasets import mnist\n",
        "(x_train, y_train), (x_test, y_test) = mnist.load_data()\n",
        "\n",
        "print(x_train.shape, y_train.shape)\n",
        "print(x_test.shape, y_test.shape)\n",
        "\n",
        "# Randomly select 600 samples from each class in the training set\n",
        "np.random.seed(0)\n",
        "num_classes = 10\n",
        "\n",
        "x_train_list = []\n",
        "y_train_list = []\n",
        "for i in range(num_classes):\n",
        "    x_train_list.append(x_train[y_train == i][:600])\n",
        "    y_train_list.append(y_train[y_train == i][:600])\n",
        "x_train = np.concatenate(x_train_list)\n",
        "y_train = np.concatenate(y_train_list)\n",
        "\n",
        "# Randomly select 100 samples from each class in the test\n",
        "\n",
        "x_test_list = []\n",
        "y_test_list = []\n",
        "for i in range(num_classes):\n",
        "    x_test_list.append(x_test[y_test == i][:100])\n",
        "    y_test_list.append(y_test[y_test == i][:100])\n",
        "x_test = np.concatenate(x_test_list)\n",
        "y_test = np.concatenate(y_test_list)\n",
        "\n",
        "# Since Bernoulli RBM works with binary data, we binarize the data\n",
        "x_train = (x_train > 127).astype(float)\n",
        "x_test = (x_test > 127).astype(float)\n",
        "\n",
        "# Plot the first 10 samples\n",
        "plt.figure(figsize=(10, 2))\n",
        "for i in range(10):\n",
        "    plt.subplot(1, 10, i + 1)\n",
        "    plt.imshow(x_train[i], cmap='gray')\n",
        "    plt.axis('off')"
      ]
    },
    {
      "cell_type": "code",
      "execution_count": 2,
      "metadata": {},
      "outputs": [],
      "source": [
        "from sklearn import linear_model\n",
        "from sklearn.neural_network import BernoulliRBM\n",
        "from sklearn.pipeline import Pipeline\n",
        "\n",
        "logistic = linear_model.LogisticRegression(solver=\"newton-cg\", tol=1)\n",
        "rbm = BernoulliRBM(random_state=0, verbose=True)\n",
        "\n",
        "rbm_features_classifier = Pipeline(steps=[(\"rbm\", rbm), (\"logistic\", logistic)])"
      ]
    },
    {
      "cell_type": "code",
      "execution_count": null,
      "metadata": {},
      "outputs": [],
      "source": [
        "# Training the classifier\n",
        "\n",
        "from sklearn.base import clone\n",
        "\n",
        "# Hyper-parameters. These were set by cross-validation,\n",
        "# using a GridSearchCV. Here we are not performing cross-validation to\n",
        "# save time.\n",
        "\n",
        "rbm.learning_rate = 0.06\n",
        "rbm.n_iter = 10\n",
        "\n",
        "# More components tend to give better prediction performance, but larger\n",
        "# fitting time\n",
        "\n",
        "rbm.n_components = 100\n",
        "logistic.C = 6000.0\n",
        "\n",
        "# Training RBM-Logistic Pipeline\n",
        "\n",
        "rbm_features_classifier.fit(x_train.reshape(-1, 784), y_train)\n",
        "\n",
        "# Training the Logistic regression classifier directly on the pixel\n",
        "\n",
        "raw_pixel_classifier = clone(logistic)\n",
        "raw_pixel_classifier.C = 100.0\n",
        "raw_pixel_classifier.fit(x_train.reshape(-1, 784), y_train)"
      ]
    },
    {
      "cell_type": "code",
      "execution_count": null,
      "metadata": {},
      "outputs": [],
      "source": [
        "from sklearn import metrics\n",
        "\n",
        "y_pred = rbm_features_classifier.predict(x_test.reshape(-1, 784))\n",
        "print(\"Logistic regression using RBM features:\\n%s\\n\" % (\n",
        "    metrics.classification_report(y_test, y_pred)))\n",
        "\n",
        "y_pred = raw_pixel_classifier.predict(x_test.reshape(-1, 784))\n",
        "print(\"Logistic regression using raw pixel features:\\n%s\\n\" % (\n",
        "    metrics.classification_report(y_test, y_pred)))"
      ]
    },
    {
      "cell_type": "code",
      "execution_count": null,
      "metadata": {},
      "outputs": [],
      "source": [
        "# Vary the number of components and plot the results\n",
        "\n",
        "n_components = [10, 50, 100, 200, 500]\n",
        "logistic.C = 6000.0\n",
        "rbm.learning_rate = 0.06\n",
        "rbm.n_iter = 20\n",
        "\n",
        "rbm_features_classifier = Pipeline(steps=[(\"rbm\", rbm), (\"logistic\", logistic)])\n",
        "\n",
        "for n_component in n_components:\n",
        "    print(\"Extracting the top %d RBM components...\" % (n_component))\n",
        "    rbm.n_components = n_component\n",
        "    rbm_features_classifier.fit(x_train.reshape(-1, 784), y_train)\n",
        "\n",
        "    y_pred = rbm_features_classifier.predict(x_test.reshape(-1, 784))\n",
        "    print(\"Logistic regression using RBM features, %d components:\\n%s\\n\" % (\n",
        "        n_component, metrics.classification_report(y_test, y_pred)))\n"
      ]
    },
    {
      "cell_type": "code",
      "execution_count": null,
      "metadata": {},
      "outputs": [],
      "source": [
        "# Vary the C parameter of the Logistic regression and plot the results\n",
        "\n",
        "Cs = [1, 10, 100, 1000, 10000]\n",
        "n_components = 100\n",
        "rbm.n_components = n_components\n",
        "rbm.learning_rate = 0.06\n",
        "\n",
        "rbm_features_classifier = Pipeline(steps=[(\"rbm\", rbm), (\"logistic\", logistic)])\n",
        "\n",
        "for C in Cs:\n",
        "    print(\"Fitting Logistic regression with C = %d\" % C)\n",
        "    logistic.C = C\n",
        "    rbm_features_classifier.fit(x_train.reshape(-1, 784), y_train)\n",
        "\n",
        "    y_pred = rbm_features_classifier.predict(x_test.reshape(-1, 784))\n",
        "    print(\"Logistic regression using RBM features, %d components:\\n%s\\n\" % (\n",
        "        C, metrics.classification_report(y_test, y_pred)))\n",
        "\n",
        "    plt.figure(figsize=(4.2, 4))\n",
        "    for i, comp in enumerate(rbm.components_):\n",
        "        plt.subplot(10, 10, i + 1)\n",
        "        plt.imshow(comp.reshape((28, 28)), cmap=plt.cm.gray_r,\n",
        "                   interpolation='nearest')\n",
        "        plt.xticks(())\n",
        "        plt.yticks(())\n",
        "\n",
        "    plt.suptitle('100 components extracted by RBM', fontsize=16)\n",
        "    \n",
        "plt.subplots_adjust(0.08, 0.02, 0.92, 0.85, 0.08, 0.23)\n",
        "\n",
        "plt.show()"
      ]
    },
    {
      "cell_type": "markdown",
      "metadata": {
        "id": "aYndZndj6FLy"
      },
      "source": [
        "## Inferences and Conclusion : State all the key observations and conclusion"
      ]
    },
    {
      "cell_type": "markdown",
      "metadata": {
        "id": "FAV1M3ff6H0I"
      },
      "source": [
        "1. RBM + logistic classifier requires binary input data and hence the MNIST dataset is binarized.\n",
        "\n",
        "2. RBM + logistic classifier with 200 components works better than logistic regression alone.\n",
        "\n",
        "3. As the number of components in RBM increases, the accuracy of the model increases.\n",
        "\n",
        "4. Increasing C value in logistic regression increases the accuracy of the model."
      ]
    },
    {
      "cell_type": "markdown",
      "metadata": {
        "id": "QwXEYR7_6Xik"
      },
      "source": [
        "# **Problem 2** : RBM as a Recommendation System for Movie Review on Movie Lens Dataset\n",
        "\n",
        "1. Use the Movie Lens Dataset, Split it into train-test set. Convert the ratings to Binary (The task is to predict if the user likes a movie or not)\n",
        "2. Build a RBM network, train the model and test it on the test set"
      ]
    },
    {
      "cell_type": "markdown",
      "metadata": {
        "id": "KtJnEBRj7NTt"
      },
      "source": [
        "## Write down the Objectives, Hypothesis and Experimental description for the above problem\n"
      ]
    },
    {
      "cell_type": "markdown",
      "metadata": {
        "id": "XgtGYaf07PQM"
      },
      "source": []
    },
    {
      "cell_type": "markdown",
      "metadata": {
        "id": "9nR68D3E7Pux"
      },
      "source": [
        "## Programming :\n",
        "  Please write a program to demonstrate the same"
      ]
    },
    {
      "cell_type": "code",
      "execution_count": null,
      "metadata": {
        "id": "dbomSIWY7Rr1"
      },
      "outputs": [],
      "source": [
        "# Import the movie lens dataset\n",
        "\n",
        "import pandas as pd\n",
        "\n",
        "# Load the data\n",
        "\n"
      ]
    },
    {
      "cell_type": "markdown",
      "metadata": {
        "id": "9tU_BVgW7SLS"
      },
      "source": [
        "## Inferences and Conclusion : State all the key observations and conclusion"
      ]
    },
    {
      "cell_type": "markdown",
      "metadata": {
        "id": "JcFjkezc7ypq"
      },
      "source": []
    }
  ],
  "metadata": {
    "colab": {
      "provenance": []
    },
    "kernelspec": {
      "display_name": "Python 3",
      "name": "python3"
    },
    "language_info": {
      "codemirror_mode": {
        "name": "ipython",
        "version": 3
      },
      "file_extension": ".py",
      "mimetype": "text/x-python",
      "name": "python",
      "nbconvert_exporter": "python",
      "pygments_lexer": "ipython3",
      "version": "3.10.12"
    }
  },
  "nbformat": 4,
  "nbformat_minor": 0
}
