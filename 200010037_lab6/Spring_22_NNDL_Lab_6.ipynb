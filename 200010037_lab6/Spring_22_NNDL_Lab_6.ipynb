{
 "cells": [
  {
   "cell_type": "markdown",
   "metadata": {
    "id": "8mqXpEeWhf7X"
   },
   "source": [
    "# LAB 6 : Recurrent Neural Networks\n",
    "\n",
    "Name : Hrishikesh Pable\n",
    "\n",
    "Roll Number : 200010037\n",
    "\n",
    "Referrence Material : \n",
    "\n",
    "1. https://github.com/pangolulu/rnn-from-scratch\n",
    "2. https://www.analyticsvidhya.com/blog/2019/01/fundamentals-deep-learning-recurrent-neural-networks-scratch-python/\n"
   ]
  },
  {
   "cell_type": "markdown",
   "metadata": {
    "id": "EtHrn2eXhmdN"
   },
   "source": [
    "# **Problem 1** : Next Token Prediction in a Sequence\n",
    "\n",
    "Observation to be demonstrated:\n",
    "\n",
    "1. Generate the data required\n",
    "2. Represent tokens as indices using dictionaries\n",
    "3. Convert the tokens into vectors using One hot encoding\n",
    "4. Implement Recurrent Neural Network to solve the Next token prediction problem"
   ]
  },
  {
   "cell_type": "markdown",
   "metadata": {
    "id": "XnwyeTeVhqpx"
   },
   "source": [
    "# Objective\n",
    "The objective of the problem is to predict the next token in a sequence of tokens. \n",
    "\n",
    "So, mathematically,\n",
    "\n",
    "Given a sequence of tokens, $x_1, x_2, x_3, ... x_n$, the objective is to predict the next token $x_{n+1}$.\n",
    "\n",
    "The hypothesis is that the RNN model will be able to predict the next token in the sequence with a good accuracy. "
   ]
  },
  {
   "cell_type": "markdown",
   "metadata": {
    "id": "8JoALkrXhrHG"
   },
   "source": [
    "## Programming : \n"
   ]
  },
  {
   "cell_type": "markdown",
   "metadata": {
    "id": "h3duSEPZlEq_"
   },
   "source": [
    "1. **Representing tokens or text**\n",
    "\n",
    "In previous labs we mainly considered data $x \\in \\mathrm{R}^d$, where $d$ is the feature space dimension.\n",
    "With time sequences our data can be represented as $x \\in \\mathrm{R}^{t \\, \\times \\, d}$, where $t$ is the sequence length. \n",
    "This emphasises sequence dependence and that the samples along the sequence are not independent and identically distributed (i.i.d.).\n",
    "We will model functions as $\\mathrm{R}^{t \\, \\times \\, d} \\rightarrow \\mathrm{R}^c$, where $c$ is the amount of classes in the output.\n",
    "\n",
    "There are several ways to represent sequences. With text, the challenge is how to represent a word as a feature vector in $d$ dimensions, as we are required to represent text with decimal numbers in order to apply neural networks to it.\n",
    "\n",
    "In this exercise we will use a simple one-hot encoding but for categorical variables that can take on many values (e.g. words in the English language) this may be infeasible. For such scenarios, you can project the encodings into a smaller space by use of embeddings."
   ]
  },
  {
   "cell_type": "markdown",
   "metadata": {
    "id": "OdZUdeSQlbaO"
   },
   "source": [
    "2. **One-hot encoding over vocabulary**\n",
    "\n",
    "One way to represent a fixed amount of words is by making a one-hot encoded vector, which consists of 0s in all cells with the exception of a single 1 in a cell used uniquely to identify each word.\n",
    "\n",
    "| vocabulary    | one-hot encoded vector   |\n",
    "| ------------- |--------------------------|\n",
    "| Paris         | $= [1, 0, 0, \\ldots, 0]$ |\n",
    "| Rome          | $= [0, 1, 0, \\ldots, 0]$ |\n",
    "| Copenhagen    | $= [0, 0, 1, \\ldots, 0]$ |\n",
    "\n",
    "Representing a large vocabulary with one-hot encodings often becomes inefficient because of the size of each sparse vector.\n",
    "To overcome this challenge it is common practice to truncate the vocabulary to contain the $k$ most used words and represent the rest with a special symbol, $\\mathtt{UNK}$, to define unknown/unimportant words.\n",
    "This often causes entities such as names to be represented with $\\mathtt{UNK}$ because they are rare.\n",
    "\n",
    "Consider the following text\n",
    "> I love the corny jokes in Spielberg's new movie.\n",
    "\n",
    "where an example result would be similar to\n",
    "> I love the corny jokes in $\\mathtt{UNK}$'s new movie."
   ]
  },
  {
   "cell_type": "markdown",
   "metadata": {
    "id": "PYhxG_0yljV8"
   },
   "source": [
    "## Generating a dataset\n",
    "\n",
    "For this exercise we will create a simple dataset that we can learn from. We generate sequences of the form:\n",
    "\n",
    "`a a a a b b b b EOS`, `a a b b EOS`, `a a a a a b b b b b EOS`\n",
    "\n",
    "where `EOS` is a special character denoting the end of a sequence. The task is to predict the next token $t_n$, i.e. `a`, `b`, `EOS` or the unknown token `UNK` given the sequence of tokens $\\{ t_{1}, t_{2}, \\dots , t_{n-1}\\}$ and we are to process sequences in a sequential manner. As such, the network will need to learn that e.g. 5 `b`s and an `EOS` token will occur following 5 `a`s."
   ]
  },
  {
   "cell_type": "code",
   "execution_count": 1,
   "metadata": {
    "colab": {
     "base_uri": "https://localhost:8080/"
    },
    "id": "5e6FzDlsheny",
    "outputId": "fe3e561b-27a1-4c6c-f945-9a2a6d014b51"
   },
   "outputs": [
    {
     "name": "stdout",
     "output_type": "stream",
     "text": [
      "A single sample from the generated dataset:\n",
      "['a', 'a', 'a', 'a', 'a', 'a', 'a', 'a', 'a', 'a', 'b', 'b', 'b', 'b', 'b', 'b', 'b', 'b', 'b', 'b', 'EOS']\n"
     ]
    }
   ],
   "source": [
    "import numpy as np\n",
    "\n",
    "\n",
    "def generate_dataset(num_sequences=50):\n",
    "    \"\"\"\n",
    "    Generates a number of sequences as our dataset.\n",
    "    \n",
    "    Input :\n",
    "     `num_sequences`: the number of sequences to be generated.\n",
    "     \n",
    "    Returns a list of sequences.\n",
    "    \"\"\"\n",
    "    samples = []\n",
    "    \n",
    "    for i in range(num_sequences):\n",
    "        sequence = []\n",
    "\n",
    "        num_tokens = np.random.randint(1, np.floor((3/2)*num_sequences))\n",
    "        sequence.extend(['a']*num_tokens)\n",
    "        sequence.extend(['b']*num_tokens)\n",
    "        sequence.append('EOS')\n",
    "\n",
    "        samples.append(sequence)\n",
    "        \n",
    "    return samples\n",
    "\n",
    "\n",
    "sequences = generate_dataset()\n",
    "\n",
    "print('A single sample from the generated dataset:')\n",
    "print(sequences[0])"
   ]
  },
  {
   "cell_type": "markdown",
   "metadata": {
    "id": "ZOssF34fmCJV"
   },
   "source": [
    "## Representing tokens as indices\n",
    "\n",
    "To build a one-hot encoding, we need to assign each possible word in our vocabulary an index. We do that by creating two dictionaries: one that allows us to go from a given word to its corresponding index in our vocabulary, and one for the reverse direction. Let's call them `word_to_idx` and `idx_to_word`. The keyword `num_words` specifies the maximum size of our vocabulary. If we try to access a word that does not exist in our vocabulary, it is automatically replaced by the `UNK` token or its corresponding index."
   ]
  },
  {
   "cell_type": "code",
   "execution_count": 2,
   "metadata": {
    "colab": {
     "base_uri": "https://localhost:8080/"
    },
    "id": "kd4-PHrSl-oV",
    "outputId": "285f1f99-b3a7-40fc-971c-b265285d62f0"
   },
   "outputs": [
    {
     "name": "stdout",
     "output_type": "stream",
     "text": [
      "Word to Index Dictionary :  {'a': 0, 'b': 1, 'EOS': 2, 'UNK': 3}\n",
      "Index to Word Dictionary :  {0: 'a', 1: 'b', 2: 'EOS', 3: 'UNK'}\n",
      "Number of Sequences :  10\n",
      "Vocab Size :  4\n"
     ]
    }
   ],
   "source": [
    "# from collections import defaultdict\n",
    "\n",
    "def sequences_to_dicts(sequences):\n",
    "    \"\"\"\n",
    "    Create word_to_idx and idx_to_word dictionaries for a list of sequences.\n",
    "    \"\"\"\n",
    "\n",
    "    ## Write your code here\n",
    "    word_to_idx = {}\n",
    "    idx_to_word = {}\n",
    "    \n",
    "    for sequence in sequences:\n",
    "        for word in sequence:\n",
    "            if word not in word_to_idx:\n",
    "                word_to_idx[word] = len(word_to_idx)\n",
    "                idx_to_word[len(idx_to_word)] = word\n",
    "                \n",
    "    \n",
    "    # Add the UNK token to the dictionaries\n",
    "    word_to_idx['UNK'] = len(word_to_idx)\n",
    "    idx_to_word[len(idx_to_word)] = 'UNK'\n",
    "    \n",
    "    num_sequences = len(sequences)\n",
    "    vocab_size = len(word_to_idx)\n",
    "                \n",
    "    return word_to_idx, idx_to_word, num_sequences, vocab_size\n",
    "\n",
    "\n",
    "word_to_idx, idx_to_word, num_sequences, vocab_size = sequences_to_dicts(sequences)\n",
    "\n",
    "print(\"Word to Index Dictionary : \",dict(word_to_idx))\n",
    "print(\"Index to Word Dictionary : \",dict(idx_to_word))\n",
    "print(\"Number of Sequences : \",num_sequences)\n",
    "print(\"Vocab Size : \",vocab_size)\n"
   ]
  },
  {
   "cell_type": "markdown",
   "metadata": {
    "id": "qa3EMnoem5RE"
   },
   "source": [
    "## Creating Dataset \n",
    "\n",
    "To build our dataset, we need to create inputs and targets for each sequences and partition sentences it into training and test sets. 80% and 20% is a common distribution, but mind you that this largely depends on the size of the dataset. **Since we are doing next-word predictions, our target sequence is simply the input sequence shifted by one word.**"
   ]
  },
  {
   "cell_type": "code",
   "execution_count": 3,
   "metadata": {
    "colab": {
     "base_uri": "https://localhost:8080/"
    },
    "id": "67EBwhExm6RY",
    "outputId": "e6112598-4667-4e6d-babd-831a28f7963c"
   },
   "outputs": [
    {
     "name": "stdout",
     "output_type": "stream",
     "text": [
      "Input for the first training sample :  ['a', 'a', 'a', 'a', 'a', 'a', 'a', 'a', 'a', 'a', 'b', 'b', 'b', 'b', 'b', 'b', 'b', 'b', 'b', 'b']\n",
      "Target output for the first training sample :  ['a', 'a', 'a', 'a', 'a', 'a', 'a', 'a', 'a', 'b', 'b', 'b', 'b', 'b', 'b', 'b', 'b', 'b', 'b', 'EOS']\n"
     ]
    }
   ],
   "source": [
    "from torch.utils import data\n",
    "\n",
    "class Dataset(data.Dataset):\n",
    "    def __init__(self, inputs, targets):\n",
    "        self.inputs = inputs\n",
    "        self.targets = targets\n",
    "\n",
    "    def __len__(self):\n",
    "        # Return the size of the dataset\n",
    "        return len(self.targets)\n",
    "\n",
    "    def __getitem__(self, index):\n",
    "        # Retrieve inputs and targets at the given index\n",
    "        X = self.inputs[index]\n",
    "        y = self.targets[index]\n",
    "\n",
    "        return X, y\n",
    "\n",
    "\n",
    " \n",
    "def create_datasets(sequences, dataset_class, p_train=0.8, p_val=0.1, p_test=0.1):\n",
    "    # Define partition sizes\n",
    "    num_train = int(len(sequences)*p_train)\n",
    "    num_val = int(len(sequences)*p_val)\n",
    "    num_test = int(len(sequences)*p_test)\n",
    "\n",
    "    # Split sequences into partitions\n",
    "    sequences_train = sequences[:num_train]\n",
    "    sequences_val = sequences[num_train:num_train+num_val]\n",
    "    sequences_test = sequences[-num_test:]\n",
    "\n",
    "    def get_inputs_targets_from_sequences(sequences):\n",
    "        # Define empty lists\n",
    "        inputs, targets = [], []\n",
    "        \n",
    "        # Append inputs and targets s.t. both lists contain L-1 words of a sentence of length L\n",
    "        # but targets are shifted right by one so that we can predict the next word\n",
    "        for sequence in sequences:\n",
    "            inputs.append(sequence[:-1])\n",
    "            targets.append(sequence[1:])\n",
    "            \n",
    "        return inputs, targets\n",
    "\n",
    "    # Get inputs and targets for each partition\n",
    "    inputs_train, targets_train = get_inputs_targets_from_sequences(sequences_train)\n",
    "    inputs_val, targets_val = get_inputs_targets_from_sequences(sequences_val)\n",
    "    inputs_test, targets_test = get_inputs_targets_from_sequences(sequences_test)\n",
    "\n",
    "    # Create datasets\n",
    "    training_set = dataset_class(inputs_train, targets_train)\n",
    "    validation_set = dataset_class(inputs_val, targets_val)\n",
    "    test_set = dataset_class(inputs_test, targets_test)\n",
    "\n",
    "    return training_set, validation_set, test_set\n",
    "    \n",
    "\n",
    "training_set, validation_set, test_set = create_datasets(sequences, Dataset, p_train=0.8, p_val=0.1, p_test=0.1)\n",
    "    \n",
    "\n",
    "print(\"Input for the first training sample : \",training_set.__getitem__(0)[0])\n",
    "print(\"Target output for the first training sample : \",training_set.__getitem__(0)[1])\n"
   ]
  },
  {
   "cell_type": "markdown",
   "metadata": {
    "id": "XT8pAPFVpr1E"
   },
   "source": [
    "## One-hot encodings\n",
    "\n",
    "We now create a simple function that returns the one-hot encoded representation of a given index of a word in our vocabulary. Notice that the shape of the one-hot encoding is equal to the vocabulary (which can be huge!). Additionally, we define a function to automatically one-hot encode a sentence."
   ]
  },
  {
   "cell_type": "code",
   "execution_count": 4,
   "metadata": {
    "colab": {
     "base_uri": "https://localhost:8080/"
    },
    "id": "932mDevcoqh0",
    "outputId": "520baf6b-2fe2-4b3d-f0fb-ebbec7d19c5b"
   },
   "outputs": [
    {
     "name": "stdout",
     "output_type": "stream",
     "text": [
      "Our one-hot encoding of 'a' is [1. 0. 0. 0.].\n",
      "Our one-hot encoding of 'a' has shape (4,).\n",
      "Our one-hot encoding of 'a b' is [[[1.]\n",
      "  [0.]\n",
      "  [0.]\n",
      "  [0.]]\n",
      "\n",
      " [[0.]\n",
      "  [1.]\n",
      "  [0.]\n",
      "  [0.]]].\n",
      "Our one-hot encoding of 'a b' has shape (2, 4, 1).\n",
      "[[[1.]\n",
      "  [0.]\n",
      "  [0.]\n",
      "  [0.]]\n",
      "\n",
      " [[0.]\n",
      "  [1.]\n",
      "  [0.]\n",
      "  [0.]]]\n"
     ]
    }
   ],
   "source": [
    "def one_hot_encode(idx, vocab_size):\n",
    "    \"\"\"\n",
    "    One-hot encodes a single word given its index and the size of the vocabulary.\n",
    "    \n",
    "    Input :\n",
    "     `idx`: the index of the given word\n",
    "     `vocab_size`: the size of the vocabulary\n",
    "    \n",
    "    Returns a 1-D numpy array of length `vocab_size`.\n",
    "    \"\"\"\n",
    "    # Initialize the encoded array\n",
    "    one_hot = np.zeros(vocab_size)\n",
    "    \n",
    "    # Set the appropriate element to one\n",
    "    one_hot[idx] = 1.0\n",
    "\n",
    "    return one_hot\n",
    "\n",
    "\n",
    "def one_hot_encode_sequence(sequence, vocab_size):\n",
    "    \"\"\"\n",
    "    One-hot encodes a sequence of words given a fixed vocabulary size.\n",
    "    \n",
    "    Input :\n",
    "     `sentence`: a list of words to encode\n",
    "     `vocab_size`: the size of the vocabulary\n",
    "     \n",
    "    Returns a 3-D numpy array of shape (num words, vocab size, 1).\n",
    "    \"\"\"\n",
    "    # Encode each word in the sentence\n",
    "    encoding = np.array([one_hot_encode(word_to_idx[word], vocab_size) for word in sequence])\n",
    "\n",
    "    # Reshape encoding s.t. it has shape (num words, vocab size, 1)\n",
    "    encoding = encoding.reshape(encoding.shape[0], encoding.shape[1], 1)\n",
    "    \n",
    "    return encoding\n",
    "\n",
    "\n",
    "test_word = one_hot_encode(word_to_idx['a'], vocab_size)\n",
    "print(f'Our one-hot encoding of \\'a\\' is {test_word}.')\n",
    "print(f'Our one-hot encoding of \\'a\\' has shape {test_word.shape}.')\n",
    "\n",
    "test_sentence = one_hot_encode_sequence(['a', 'b'], vocab_size)\n",
    "print(f'Our one-hot encoding of \\'a b\\' is {test_sentence}.')\n",
    "print(f'Our one-hot encoding of \\'a b\\' has shape {test_sentence.shape}.')\n",
    "print(test_sentence)"
   ]
  },
  {
   "cell_type": "markdown",
   "metadata": {
    "id": "ubppcPGHqXnQ"
   },
   "source": [
    "## Implementation of RNN : \n",
    "\n",
    "A recurrent neural network (RNN) is a type of neural network that has been succesful in modelling sequential data, e.g. language, speech, protein sequences, etc.\n",
    "\n",
    "A RNN performs its computations in a cyclic manner, where the same computation is applied to every sample of a given sequence.\n",
    "The idea is that the network should be able to use the previous computations as some form of memory and apply this to future computations.\n",
    "An image may best explain how this is to be understood,\n",
    "\n",
    "![rnn-unroll image](https://github.com/DeepLearningDTU/02456-deep-learning-with-PyTorch/blob/master/static_files/rnn-unfold.png?raw=1)\n",
    "\n",
    "\n",
    "where it the network contains the following elements:\n",
    "\n",
    "- $x$ is the input sequence of samples, \n",
    "- $U$ is a weight matrix applied to the given input sample,\n",
    "- $V$ is a weight matrix used for the recurrent computation in order to pass memory along the sequence,\n",
    "- $W$ is a weight matrix used to compute the output of the every timestep (given that every timestep requires an output),\n",
    "- $h$ is the hidden state (the network's memory) for a given time step, and\n",
    "- $o$ is the resulting output.\n",
    "\n",
    "When the network is unrolled as shown, it is easier to refer to a timestep, $t$.\n",
    "We have the following computations through the network:\n",
    "\n",
    "- $h_t = f(U\\,{x_t} + V\\,{h_{t-1}})$, where $f$ usually is an activation function, e.g. $\\mathrm{tanh}$.\n",
    "- $o_t = \\mathrm{softmax}(W\\,{h_t})$\n",
    "\n",
    "\n",
    "**Steps :** \n",
    "\n",
    "  1. Implement Forward Pass, Backward Pass and Optimisation\n",
    "  2. Write the training loop\n",
    "  3. Take care of the exploding gradient problem by clipping the gradients "
   ]
  },
  {
   "cell_type": "code",
   "execution_count": 5,
   "metadata": {
    "id": "G6-O0EIFt6j2"
   },
   "outputs": [],
   "source": [
    "## Write your code here\n",
    "\n",
    "hidden_size = 50 # Number of dimensions in the hidden state\n",
    "vocab_size  = len(word_to_idx) # Size of the vocabulary used\n",
    "\n",
    "def init_orthogonal(param):\n",
    "    \"\"\"\n",
    "    Initializes weight parameters orthogonally.\n",
    "\n",
    "    \"\"\"\n",
    "    if param.ndim < 2:\n",
    "        raise ValueError(\"Only parameters with 2 or more dimensions are supported.\")\n",
    "\n",
    "    rows, cols = param.shape\n",
    "    \n",
    "    new_param = np.random.randn(rows, cols)\n",
    "    \n",
    "    if rows < cols:\n",
    "        new_param = new_param.T\n",
    "    \n",
    "    # Compute QR factorization\n",
    "    q, r = np.linalg.qr(new_param)\n",
    "    \n",
    "    # Make Q uniform according to https://arxiv.org/pdf/math-ph/0609050.pdf\n",
    "    d = np.diag(r, 0)\n",
    "    ph = np.sign(d)\n",
    "    q *= ph\n",
    "\n",
    "    if rows < cols:\n",
    "        q = q.T\n",
    "    \n",
    "    new_param = q\n",
    "    \n",
    "    return new_param\n",
    "\n",
    "\n",
    "def init_rnn(hidden_size, vocab_size):\n",
    "    \"\"\"\n",
    "    Initializes our recurrent neural network.\n",
    "    \n",
    "    Args:\n",
    "     `hidden_size`: the dimensions of the hidden state\n",
    "     `vocab_size`: the dimensions of our vocabulary\n",
    "    \"\"\"\n",
    "    # Weight matrix (input to hidden state)\n",
    "    # YOUR CODE HERE!\n",
    "    U = np.zeros((hidden_size, vocab_size))\n",
    "\n",
    "    # Weight matrix (recurrent computation)\n",
    "    # YOUR CODE HERE!\n",
    "    V = np.zeros((hidden_size, hidden_size))\n",
    "\n",
    "    # Weight matrix (hidden state to output)\n",
    "    # YOUR CODE HERE!\n",
    "    W = np.zeros((vocab_size, hidden_size))\n",
    "\n",
    "    # Bias (hidden state)\n",
    "    # YOUR CODE HERE!\n",
    "    b_hidden = np.zeros((hidden_size, 1))\n",
    "\n",
    "    # Bias (output)\n",
    "    # YOUR CODE HERE!\n",
    "    b_out = np.zeros((vocab_size, 1))\n",
    "    \n",
    "    # Initialize weights\n",
    "    U = init_orthogonal(U)\n",
    "    V = init_orthogonal(V)\n",
    "    W = init_orthogonal(W)\n",
    "    \n",
    "    # Return parameters as a tuple\n",
    "    return U, V, W, b_hidden, b_out\n",
    "\n",
    "\n",
    "params = init_rnn(hidden_size=hidden_size, vocab_size=vocab_size)\n",
    "\n"
   ]
  },
  {
   "cell_type": "code",
   "execution_count": 6,
   "metadata": {},
   "outputs": [],
   "source": [
    "def sigmoid(x, derivative=False):\n",
    "    \"\"\"\n",
    "    Computes the element-wise sigmoid activation function for an array x.\n",
    "\n",
    "    Args:\n",
    "     `x`: the array where the function is applied\n",
    "     `derivative`: if set to True will return the derivative instead of the forward pass\n",
    "    \"\"\"\n",
    "    x_safe = x + 1e-12\n",
    "    f = 1 / (1 + np.exp(-x_safe))\n",
    "    \n",
    "    if derivative: # Return the derivative of the function evaluated at x\n",
    "        return f * (1 - f)\n",
    "    else: # Return the forward pass of the function at x\n",
    "        return f\n",
    "\n",
    "def tanh(x, derivative=False):\n",
    "    \"\"\"\n",
    "    Computes the element-wise tanh activation function for an array x.\n",
    "\n",
    "    Args:\n",
    "     `x`: the array where the function is applied\n",
    "     `derivative`: if set to True will return the derivative instead of the forward pass\n",
    "    \"\"\"\n",
    "    x_safe = x + 1e-12\n",
    "    f = (np.exp(x_safe)-np.exp(-x_safe))/(np.exp(x_safe)+np.exp(-x_safe))\n",
    "    \n",
    "    if derivative: # Return the derivative of the function evaluated at x\n",
    "        return 1-f**2\n",
    "    else: # Return the forward pass of the function at x\n",
    "        return f\n",
    "\n",
    "def softmax(x, derivative=False):\n",
    "    \"\"\"\n",
    "    Computes the softmax for an array x.\n",
    "    \n",
    "    Args:\n",
    "     `x`: the array where the function is applied\n",
    "     `derivative`: if set to True will return the derivative instead of the forward pass\n",
    "    \"\"\"\n",
    "    x_safe = x + 1e-12\n",
    "    f = np.exp(x_safe) / np.sum(np.exp(x_safe))\n",
    "    \n",
    "    if derivative: # Return the derivative of the function evaluated at x\n",
    "        pass # We will not need this one\n",
    "    else: # Return the forward pass of the function at x\n",
    "        return f"
   ]
  },
  {
   "cell_type": "code",
   "execution_count": 7,
   "metadata": {},
   "outputs": [
    {
     "name": "stdout",
     "output_type": "stream",
     "text": [
      "Input sequence:\n",
      "['a', 'a', 'a', 'a', 'a', 'a', 'a', 'a', 'a', 'a', 'b', 'b', 'b', 'b', 'b', 'b', 'b', 'b', 'b', 'b']\n",
      "\n",
      "Target sequence:\n",
      "['a', 'a', 'a', 'a', 'a', 'a', 'a', 'a', 'a', 'b', 'b', 'b', 'b', 'b', 'b', 'b', 'b', 'b', 'b', 'EOS']\n",
      "\n",
      "Predicted sequence:\n",
      "['UNK', 'UNK', 'UNK', 'UNK', 'UNK', 'UNK', 'UNK', 'UNK', 'UNK', 'UNK', 'UNK', 'EOS', 'EOS', 'UNK', 'UNK', 'UNK', 'EOS', 'EOS', 'EOS', 'EOS']\n"
     ]
    }
   ],
   "source": [
    "def forward_pass(inputs, hidden_state, params):\n",
    "    \"\"\"\n",
    "    Computes the forward pass of a vanilla RNN.\n",
    "    \n",
    "    Args:\n",
    "     `inputs`: sequence of inputs to be processed\n",
    "     `hidden_state`: an already initialized hidden state\n",
    "     `params`: the parameters of the RNN\n",
    "    \"\"\"\n",
    "    # First we unpack our parameters\n",
    "    U, V, W, b_hidden, b_out = params\n",
    "    \n",
    "    # Create a list to store outputs and hidden states\n",
    "    outputs, hidden_states = [], []\n",
    "    \n",
    "    # For each element in input sequence\n",
    "    for t in range(len(inputs)):\n",
    "\n",
    "        # Compute new hidden state\n",
    "        # YOUR CODE HERE!\n",
    "        hidden_state = tanh(np.dot(U, inputs[t]) + np.dot(V, hidden_state) + b_hidden)\n",
    "\n",
    "        # Compute output\n",
    "        # YOUR CODE HERE!\n",
    "        out = softmax(np.dot(W, hidden_state) + b_out)\n",
    "        \n",
    "        # Save results and continue\n",
    "        outputs.append(out)\n",
    "        hidden_states.append(hidden_state.copy())\n",
    "    \n",
    "    return outputs, hidden_states\n",
    "\n",
    "\n",
    "# Get first sequence in training set\n",
    "test_input_sequence, test_target_sequence = training_set[0]\n",
    "\n",
    "# One-hot encode input and target sequence\n",
    "test_input = one_hot_encode_sequence(test_input_sequence, vocab_size)\n",
    "test_target = one_hot_encode_sequence(test_target_sequence, vocab_size)\n",
    "\n",
    "# Initialize hidden state as zeros\n",
    "hidden_state = np.zeros((hidden_size, 1))\n",
    "\n",
    "# Now let's try out our new function\n",
    "outputs, hidden_states = forward_pass(test_input, hidden_state, params)\n",
    "\n",
    "print('Input sequence:')\n",
    "print(test_input_sequence)\n",
    "\n",
    "print('\\nTarget sequence:')\n",
    "print(test_target_sequence)\n",
    "\n",
    "print('\\nPredicted sequence:')\n",
    "print([idx_to_word[np.argmax(output)] for output in outputs])"
   ]
  },
  {
   "cell_type": "code",
   "execution_count": 8,
   "metadata": {},
   "outputs": [
    {
     "name": "stdout",
     "output_type": "stream",
     "text": [
      "Loss for this example is: 8.011620500990217\n"
     ]
    }
   ],
   "source": [
    "def clip_gradient_norm(grads, max_norm=0.25):\n",
    "    \"\"\"\n",
    "    Clips gradients to have a maximum norm of `max_norm`.\n",
    "    This is to prevent the exploding gradients problem.\n",
    "    \"\"\" \n",
    "    # Set the maximum of the norm to be of type float\n",
    "    max_norm = float(max_norm)\n",
    "    total_norm = 0\n",
    "    \n",
    "    # Calculate the L2 norm squared for each gradient and add them to the total norm\n",
    "    for grad in grads:\n",
    "        grad_norm = np.sum(np.power(grad, 2))\n",
    "        total_norm += grad_norm\n",
    "    \n",
    "    total_norm = np.sqrt(total_norm)\n",
    "    \n",
    "    # Calculate clipping coeficient\n",
    "    clip_coef = max_norm / (total_norm + 1e-6)\n",
    "    \n",
    "    # If the total norm is larger than the maximum allowable norm, then clip the gradient\n",
    "    if clip_coef < 1:\n",
    "        for grad in grads:\n",
    "            grad *= clip_coef\n",
    "    \n",
    "    return grads\n",
    "\n",
    "\n",
    "def backward_pass(inputs, outputs, hidden_states, targets, params):\n",
    "    \"\"\"\n",
    "    Computes the backward pass of a vanilla RNN.\n",
    "    \n",
    "    Args:\n",
    "     `inputs`: sequence of inputs to be processed\n",
    "     `outputs`: sequence of outputs from the forward pass\n",
    "     `hidden_states`: sequence of hidden_states from the forward pass\n",
    "     `targets`: sequence of targets\n",
    "     `params`: the parameters of the RNN\n",
    "    \"\"\"\n",
    "    # First we unpack our parameters\n",
    "    U, V, W, b_hidden, b_out = params\n",
    "    \n",
    "    # Initialize gradients as zero\n",
    "    d_U, d_V, d_W = np.zeros_like(U), np.zeros_like(V), np.zeros_like(W)\n",
    "    d_b_hidden, d_b_out = np.zeros_like(b_hidden), np.zeros_like(b_out)\n",
    "    \n",
    "    # Keep track of hidden state derivative and loss\n",
    "    d_h_next = np.zeros_like(hidden_states[0])\n",
    "    loss = 0\n",
    "    \n",
    "    # For each element in output sequence\n",
    "    # NB: We iterate backwards s.t. t = N, N-1, ... 1, 0\n",
    "    for t in reversed(range(len(outputs))):\n",
    "\n",
    "        # Compute cross-entropy loss (as a scalar)\n",
    "        # YOUR CODE HERE!\n",
    "        loss += -np.mean(np.log(outputs[t]+1e-12) * targets[t])\n",
    "        \n",
    "        # Backpropagate into output (derivative of cross-entropy)\n",
    "        # if you're confused about this step, see this link for an explanation:\n",
    "        # http://cs231n.github.io/neural-networks-case-study/#grad\n",
    "        # YOUR CODE HERE!\n",
    "        d_o = outputs[t].copy()\n",
    "        d_o[np.argmax(targets[t])] -= 1\n",
    "        \n",
    "        # Backpropagate into W\n",
    "        # YOUR CODE HERE!\n",
    "        d_W += np.dot(d_o, hidden_states[t].T)\n",
    "        d_b_out += d_o\n",
    "        \n",
    "        # Backpropagate into h\n",
    "        # YOUR CODE HERE!\n",
    "        d_h = np.dot(W.T, d_o) + d_h_next\n",
    "        \n",
    "        # Backpropagate through non-linearity\n",
    "        d_f = tanh(hidden_states[t], derivative=True) * d_h\n",
    "        d_b_hidden += d_f\n",
    "        \n",
    "        # Backpropagate into U\n",
    "        # YOUR CODE HERE!\n",
    "        d_U += np.dot(d_f, inputs[t].T)\n",
    "        \n",
    "        # Backpropagate into V\n",
    "        # YOUR CODE HERE!\n",
    "        d_V += np.dot(d_f, hidden_states[t-1].T)\n",
    "        d_h_next = np.dot(V.T, d_f)\n",
    "    \n",
    "    # Pack gradients\n",
    "    grads = d_U, d_V, d_W, d_b_hidden, d_b_out    \n",
    "    \n",
    "    # Clip gradients\n",
    "    grads = clip_gradient_norm(grads)\n",
    "    \n",
    "    return loss, grads\n",
    "\n",
    "\n",
    "loss, grads = backward_pass(test_input, outputs, hidden_states, test_target, params)\n",
    "\n",
    "print(\"Loss for this example is: \" + str(loss))"
   ]
  },
  {
   "cell_type": "code",
   "execution_count": 9,
   "metadata": {},
   "outputs": [],
   "source": [
    "def update_parameters(params, grads, lr=1e-3):\n",
    "    # Take a step\n",
    "    for param, grad in zip(params, grads):\n",
    "        param -= lr * grad\n",
    "    \n",
    "    return params"
   ]
  },
  {
   "cell_type": "code",
   "execution_count": 14,
   "metadata": {},
   "outputs": [
    {
     "name": "stdout",
     "output_type": "stream",
     "text": [
      "Epoch 0, training loss: 6.3281677882915375, validation loss: 2.1145827057254025\n",
      "Epoch 100, training loss: 5.952546349180071, validation loss: 2.0790259056453952\n",
      "Epoch 200, training loss: 5.605242969785956, validation loss: 2.047236653912774\n",
      "Epoch 300, training loss: 5.283467476227536, validation loss: 2.0181124245077275\n",
      "Epoch 400, training loss: 4.985172719510257, validation loss: 1.9908522569105696\n",
      "Epoch 500, training loss: 4.709158910380376, validation loss: 1.9649354383459925\n",
      "Epoch 600, training loss: 4.454996501891497, validation loss: 1.9401091435316016\n",
      "Epoch 700, training loss: 4.222587317369234, validation loss: 1.9163657000975913\n",
      "Epoch 800, training loss: 4.0115793153113, validation loss: 1.8938964239213951\n",
      "Epoch 900, training loss: 3.821031555483933, validation loss: 1.8730248914694636\n",
      "Epoch 1000, training loss: 3.6494502143719085, validation loss: 1.8541308058997443\n",
      "Epoch 1100, training loss: 3.4950113340358664, validation loss: 1.8375744504070188\n",
      "Epoch 1200, training loss: 3.355786874499873, validation loss: 1.8236315467881339\n",
      "Epoch 1300, training loss: 3.229910483314651, validation loss: 1.8124501464171527\n",
      "Epoch 1400, training loss: 3.1156821582216887, validation loss: 1.804037616337085\n",
      "Input sentence:\n",
      "['a', 'a', 'a', 'a', 'a', 'a', 'a', 'a', 'a', 'a', 'a', 'a', 'a', 'a', 'b', 'b', 'b', 'b', 'b', 'b', 'b', 'b', 'b', 'b', 'b', 'b', 'b', 'b']\n",
      "\n",
      "Target sequence:\n",
      "['a', 'a', 'a', 'a', 'a', 'a', 'a', 'a', 'a', 'a', 'a', 'a', 'a', 'b', 'b', 'b', 'b', 'b', 'b', 'b', 'b', 'b', 'b', 'b', 'b', 'b', 'b', 'EOS']\n",
      "\n",
      "Predicted sequence:\n",
      "['a', 'a', 'a', 'a', 'a', 'a', 'a', 'a', 'b', 'b', 'b', 'b', 'b', 'b', 'b', 'b', 'b', 'b', 'b', 'b', 'b', 'b', 'b', 'b', 'b', 'b', 'b', 'b']\n"
     ]
    },
    {
     "data": {
      "image/png": "[encoded data removed]",
      "text/plain": [
       "<Figure size 640x480 with 1 Axes>"
      ]
     },
     "metadata": {},
     "output_type": "display_data"
    }
   ],
   "source": [
    "import matplotlib.pyplot as plt\n",
    "%matplotlib inline\n",
    "\n",
    "# Hyper-parameters\n",
    "num_epochs = 1500\n",
    "\n",
    "# Initialize a new network\n",
    "params = init_rnn(hidden_size=hidden_size, vocab_size=vocab_size)\n",
    "\n",
    "# Initialize hidden state as zeros\n",
    "hidden_state = np.zeros((hidden_size, 1))\n",
    "\n",
    "# Track loss\n",
    "training_loss, validation_loss = [], []\n",
    "\n",
    "# For each epoch\n",
    "for i in range(num_epochs):\n",
    "    \n",
    "    # Track loss\n",
    "    epoch_training_loss = 0\n",
    "    epoch_validation_loss = 0\n",
    "    \n",
    "     # For each sentence in validation set\n",
    "    for inputs, targets in validation_set:\n",
    "        \n",
    "        # One-hot encode input and target sequence\n",
    "        inputs_one_hot = one_hot_encode_sequence(inputs, vocab_size)\n",
    "        targets_one_hot = one_hot_encode_sequence(targets, vocab_size)\n",
    "        \n",
    "        # Re-initialize hidden state\n",
    "        hidden_state = np.zeros_like(hidden_state)\n",
    "\n",
    "        # Forward pass\n",
    "        # YOUR CODE HERE!\n",
    "        outputs, hidden_states = forward_pass(inputs_one_hot, hidden_state, params)\n",
    "\n",
    "        # Backward pass\n",
    "        # YOUR CODE HERE!\n",
    "        loss, _ = backward_pass(inputs_one_hot, outputs, hidden_states, targets_one_hot, params)\n",
    "        \n",
    "        # Update loss\n",
    "        epoch_validation_loss += loss\n",
    "    \n",
    "    # For each sentence in training set\n",
    "    for inputs, targets in training_set:\n",
    "        \n",
    "        # One-hot encode input and target sequence\n",
    "        inputs_one_hot = one_hot_encode_sequence(inputs, vocab_size)\n",
    "        targets_one_hot = one_hot_encode_sequence(targets, vocab_size)\n",
    "        \n",
    "        # Re-initialize hidden state\n",
    "        hidden_state = np.zeros_like(hidden_state)\n",
    "\n",
    "        # Forward pass\n",
    "        # YOUR CODE HERE!\n",
    "        outputs, hidden_states = forward_pass(inputs_one_hot, hidden_state, params)\n",
    "\n",
    "        # Backward pass\n",
    "        # YOUR CODE HERE!\n",
    "        loss, grads = backward_pass(inputs_one_hot, outputs, hidden_states, targets_one_hot, params)\n",
    "        \n",
    "        if np.isnan(loss):\n",
    "            raise ValueError('Gradients have vanished!')\n",
    "        \n",
    "        # Update parameters\n",
    "        params = update_parameters(params, grads, lr=3e-4)\n",
    "        \n",
    "        # Update loss\n",
    "        epoch_training_loss += loss\n",
    "        \n",
    "    # Save loss for plot\n",
    "    training_loss.append(epoch_training_loss/len(training_set))\n",
    "    validation_loss.append(epoch_validation_loss/len(validation_set))\n",
    "\n",
    "    # Print loss every 100 epochs\n",
    "    if i % 100 == 0:\n",
    "        print(f'Epoch {i}, training loss: {training_loss[-1]}, validation loss: {validation_loss[-1]}')\n",
    "\n",
    "\n",
    "# Get first sentence in test set\n",
    "inputs, targets = test_set.__getitem__(0)\n",
    "\n",
    "# One-hot encode input and target sequence\n",
    "inputs_one_hot = one_hot_encode_sequence(inputs, vocab_size)\n",
    "targets_one_hot = one_hot_encode_sequence(targets, vocab_size)\n",
    "\n",
    "# Initialize hidden state as zeros\n",
    "hidden_state = np.zeros((hidden_size, 1))\n",
    "\n",
    "# Forward pass\n",
    "outputs, hidden_states = forward_pass(inputs_one_hot, hidden_state, params)\n",
    "output_sentence = [idx_to_word[np.argmax(output)] for output in outputs]\n",
    "print('Input sentence:')\n",
    "print(inputs)\n",
    "\n",
    "print('\\nTarget sequence:')\n",
    "print(targets)\n",
    "\n",
    "print('\\nPredicted sequence:')\n",
    "print([idx_to_word[np.argmax(output)] for output in outputs])\n",
    "\n",
    "# Plot training and validation loss\n",
    "epoch = np.arange(len(training_loss))\n",
    "plt.figure()\n",
    "plt.plot(epoch, training_loss, 'r', label='Training loss',)\n",
    "plt.plot(epoch, validation_loss, 'b', label='Validation loss')\n",
    "plt.legend()\n",
    "plt.xlabel('Epoch'), plt.ylabel('NLL')\n",
    "plt.show()"
   ]
  },
  {
   "cell_type": "markdown",
   "metadata": {},
   "source": [
    "# **Problem 2** : Demonstrate the same for a Sine Wave\n",
    "\n",
    "Objective : Given a sequence of 50 numbers belonging to a sine wave, predict the 51st number in the series."
   ]
  },
  {
   "cell_type": "code",
   "execution_count": 36,
   "metadata": {},
   "outputs": [
    {
     "data": {
      "text/plain": [
       "[<matplotlib.lines.Line2D at 0x7f4946018280>]"
      ]
     },
     "execution_count": 36,
     "metadata": {},
     "output_type": "execute_result"
    },
    {
     "data": {
      "image/png": "[encoded data removed]",
      "text/plain": [
       "<Figure size 640x480 with 1 Axes>"
      ]
     },
     "metadata": {},
     "output_type": "display_data"
    }
   ],
   "source": [
    "## Write your code here\n",
    "\n",
    "import math\n",
    "\n",
    "sin_wave = np.array([math.sin(x) for x in np.arange(200)])\n",
    "\n",
    "plt.plot(sin_wave[:50])"
   ]
  },
  {
   "cell_type": "code",
   "execution_count": 37,
   "metadata": {},
   "outputs": [],
   "source": [
    "X = []\n",
    "Y = []\n",
    "\n",
    "seq_len = 50\n",
    "num_records = len(sin_wave) - seq_len\n",
    "\n",
    "for i in range(num_records - 50):\n",
    "    X.append(sin_wave[i:i+seq_len])\n",
    "    Y.append(sin_wave[i+seq_len])\n",
    "    \n",
    "X = np.array(X)\n",
    "X = np.expand_dims(X, axis=2)\n",
    "\n",
    "Y = np.array(Y)\n",
    "Y = np.expand_dims(Y, axis=1)\n",
    "\n",
    "X_val = []\n",
    "Y_val = []\n",
    "\n",
    "for i in range(num_records - 50, num_records):\n",
    "    X_val.append(sin_wave[i:i+seq_len])\n",
    "    Y_val.append(sin_wave[i+seq_len])\n",
    "    \n",
    "X_val = np.array(X_val)\n",
    "X_val = np.expand_dims(X_val, axis=2)\n",
    "\n",
    "Y_val = np.array(Y_val)\n",
    "Y_val = np.expand_dims(Y_val, axis=1)\n"
   ]
  },
  {
   "cell_type": "code",
   "execution_count": 38,
   "metadata": {},
   "outputs": [],
   "source": [
    "learning_rate = 0.001    \n",
    "nepoch = 25               \n",
    "T = 50                   # length of sequence\n",
    "hidden_dim = 100         \n",
    "output_dim = 1\n",
    "\n",
    "bptt_truncate = 5\n",
    "min_clip_value = -10\n",
    "max_clip_value = 10"
   ]
  },
  {
   "cell_type": "code",
   "execution_count": 39,
   "metadata": {},
   "outputs": [],
   "source": [
    "U = np.random.uniform(0, 1, (hidden_dim, T))\n",
    "W = np.random.uniform(0, 1, (hidden_dim, hidden_dim))\n",
    "V = np.random.uniform(0, 1, (output_dim, hidden_dim))"
   ]
  },
  {
   "cell_type": "code",
   "execution_count": 40,
   "metadata": {},
   "outputs": [],
   "source": [
    "def sigmoid(x):\n",
    "    return 1 / (1 + np.exp(-x))"
   ]
  },
  {
   "cell_type": "code",
   "execution_count": 41,
   "metadata": {},
   "outputs": [
    {
     "name": "stdout",
     "output_type": "stream",
     "text": [
      "Epoch:  1 , Loss:  [[96457.89183637]] , Val Loss:  [[48227.21218231]]\n",
      "Epoch:  2 , Loss:  [[36.86828559]] , Val Loss:  [[18.42608843]]\n",
      "Epoch:  3 , Loss:  [[45.10166197]] , Val Loss:  [[22.55044969]]\n",
      "Epoch:  4 , Loss:  [[46.52645774]] , Val Loss:  [[23.26070648]]\n",
      "Epoch:  5 , Loss:  [[52.46388273]] , Val Loss:  [[26.23078295]]\n",
      "Epoch:  6 , Loss:  [[47.53818131]] , Val Loss:  [[23.76766178]]\n",
      "Epoch:  7 , Loss:  [[46.55778601]] , Val Loss:  [[23.27765242]]\n",
      "Epoch:  8 , Loss:  [[46.3510167]] , Val Loss:  [[23.17457131]]\n",
      "Epoch:  9 , Loss:  [[46.25572216]] , Val Loss:  [[23.12727115]]\n",
      "Epoch:  10 , Loss:  [[46.18420703]] , Val Loss:  [[23.09190294]]\n",
      "Epoch:  11 , Loss:  [[46.13562708]] , Val Loss:  [[23.06803353]]\n",
      "Epoch:  12 , Loss:  [[46.11974135]] , Val Loss:  [[23.0605497]]\n",
      "Epoch:  13 , Loss:  [[46.13703228]] , Val Loss:  [[23.06968556]]\n",
      "Epoch:  14 , Loss:  [[46.19892527]] , Val Loss:  [[23.10114196]]\n",
      "Epoch:  15 , Loss:  [[46.31943989]] , Val Loss:  [[23.16191227]]\n",
      "Epoch:  16 , Loss:  [[46.4351689]] , Val Loss:  [[23.22030816]]\n",
      "Epoch:  17 , Loss:  [[46.31474776]] , Val Loss:  [[23.16060748]]\n",
      "Epoch:  18 , Loss:  [[46.09963239]] , Val Loss:  [[23.05354822]]\n",
      "Epoch:  19 , Loss:  [[45.93548136]] , Val Loss:  [[22.97198317]]\n",
      "Epoch:  20 , Loss:  [[45.79915738]] , Val Loss:  [[22.90433979]]\n",
      "Epoch:  21 , Loss:  [[45.68731811]] , Val Loss:  [[22.84893074]]\n",
      "Epoch:  22 , Loss:  [[45.62163683]] , Val Loss:  [[22.81659356]]\n",
      "Epoch:  23 , Loss:  [[45.60237987]] , Val Loss:  [[22.80746202]]\n",
      "Epoch:  24 , Loss:  [[45.61203908]] , Val Loss:  [[22.81277546]]\n",
      "Epoch:  25 , Loss:  [[45.64566541]] , Val Loss:  [[22.83005251]]\n"
     ]
    }
   ],
   "source": [
    "for epoch in range(nepoch):\n",
    "    # check loss on train\n",
    "    loss = 0.0\n",
    "    \n",
    "    # do a forward pass to get prediction\n",
    "    for i in range(Y.shape[0]):\n",
    "        x, y = X[i], Y[i]                    # get input, output values of each record\n",
    "        prev_s = np.zeros((hidden_dim, 1))   # here, prev-s is the value of the previous activation of hidden layer; which is initialized as all zeroes\n",
    "        for t in range(T):\n",
    "            new_input = np.zeros(x.shape)    # we then do a forward pass for every timestep in the sequence\n",
    "            new_input[t] = x[t]              # for this, we define a single input for that timestep\n",
    "            mulu = np.dot(U, new_input)\n",
    "            mulw = np.dot(W, prev_s)\n",
    "            add = mulw + mulu\n",
    "            s = sigmoid(add)\n",
    "            mulv = np.dot(V, s)\n",
    "            prev_s = s\n",
    "\n",
    "    # calculate error \n",
    "        loss_per_record = (y - mulv)**2 / 2\n",
    "        loss += loss_per_record\n",
    "    loss = loss / float(y.shape[0])\n",
    "\n",
    "    # check loss on val\n",
    "    val_loss = 0.0\n",
    "    for i in range(Y_val.shape[0]):\n",
    "        x, y = X_val[i], Y_val[i]\n",
    "        prev_s = np.zeros((hidden_dim, 1))\n",
    "        for t in range(T):\n",
    "            new_input = np.zeros(x.shape)\n",
    "            new_input[t] = x[t]\n",
    "            mulu = np.dot(U, new_input)\n",
    "            mulw = np.dot(W, prev_s)\n",
    "            add = mulw + mulu\n",
    "            s = sigmoid(add)\n",
    "            mulv = np.dot(V, s)\n",
    "            prev_s = s\n",
    "\n",
    "        loss_per_record = (y - mulv)**2 / 2\n",
    "        val_loss += loss_per_record\n",
    "    val_loss = val_loss / float(y.shape[0])\n",
    "\n",
    "    print('Epoch: ', epoch + 1, ', Loss: ', loss, ', Val Loss: ', val_loss)\n",
    "\n",
    "    # train model\n",
    "    for i in range(Y.shape[0]):\n",
    "        x, y = X[i], Y[i]\n",
    "    \n",
    "        layers = []\n",
    "        prev_s = np.zeros((hidden_dim, 1))\n",
    "        dU = np.zeros(U.shape)\n",
    "        dV = np.zeros(V.shape)\n",
    "        dW = np.zeros(W.shape)\n",
    "        \n",
    "        dU_t = np.zeros(U.shape)\n",
    "        dV_t = np.zeros(V.shape)\n",
    "        dW_t = np.zeros(W.shape)\n",
    "        \n",
    "        dU_i = np.zeros(U.shape)\n",
    "        dW_i = np.zeros(W.shape)\n",
    "        \n",
    "        # forward pass\n",
    "        for t in range(T):\n",
    "            new_input = np.zeros(x.shape)\n",
    "            new_input[t] = x[t]\n",
    "            mulu = np.dot(U, new_input)\n",
    "            mulw = np.dot(W, prev_s)\n",
    "            add = mulw + mulu\n",
    "            s = sigmoid(add)\n",
    "            mulv = np.dot(V, s)\n",
    "            layers.append({'s':s, 'prev_s':prev_s})\n",
    "            prev_s = s\n",
    "\n",
    "        # derivative of pred\n",
    "        dmulv = (mulv - y)\n",
    "        \n",
    "        # backward pass\n",
    "        for t in range(T):\n",
    "            dV_t = np.dot(dmulv, np.transpose(layers[t]['s']))\n",
    "            dsv = np.dot(np.transpose(V), dmulv)\n",
    "            \n",
    "            ds = dsv\n",
    "            dadd = add * (1 - add) * ds\n",
    "            \n",
    "            dmulw = dadd * np.ones_like(mulw)\n",
    "\n",
    "            dprev_s = np.dot(np.transpose(W), dmulw)\n",
    "\n",
    "\n",
    "            for i in range(t-1, max(-1, t-bptt_truncate-1), -1):\n",
    "                ds = dsv + dprev_s\n",
    "                dadd = add * (1 - add) * ds\n",
    "\n",
    "                dmulw = dadd * np.ones_like(mulw)\n",
    "                dmulu = dadd * np.ones_like(mulu)\n",
    "\n",
    "                dW_i = np.dot(W, layers[t]['prev_s'])\n",
    "                dprev_s = np.dot(np.transpose(W), dmulw)\n",
    "\n",
    "                new_input = np.zeros(x.shape)\n",
    "                new_input[t] = x[t]\n",
    "                dU_i = np.dot(U, new_input)\n",
    "                dx = np.dot(np.transpose(U), dmulu)\n",
    "\n",
    "                dU_t += dU_i\n",
    "                dW_t += dW_i\n",
    "                \n",
    "            dV += dV_t\n",
    "            dU += dU_t\n",
    "            dW += dW_t\n",
    "\n",
    "            if dU.max() > max_clip_value:\n",
    "                dU[dU > max_clip_value] = max_clip_value\n",
    "            if dV.max() > max_clip_value:\n",
    "                dV[dV > max_clip_value] = max_clip_value\n",
    "            if dW.max() > max_clip_value:\n",
    "                dW[dW > max_clip_value] = max_clip_value\n",
    "                \n",
    "            \n",
    "            if dU.min() < min_clip_value:\n",
    "                dU[dU < min_clip_value] = min_clip_value\n",
    "            if dV.min() < min_clip_value:\n",
    "                dV[dV < min_clip_value] = min_clip_value\n",
    "            if dW.min() < min_clip_value:\n",
    "                dW[dW < min_clip_value] = min_clip_value\n",
    "        \n",
    "        # update\n",
    "        U -= learning_rate * dU\n",
    "        V -= learning_rate * dV\n",
    "        W -= learning_rate * dW"
   ]
  },
  {
   "cell_type": "code",
   "execution_count": 42,
   "metadata": {},
   "outputs": [
    {
     "data": {
      "image/png": "[encoded data removed]",
      "text/plain": [
       "<Figure size 640x480 with 1 Axes>"
      ]
     },
     "metadata": {},
     "output_type": "display_data"
    }
   ],
   "source": [
    "preds = []\n",
    "for i in range(Y_val.shape[0]):\n",
    "    x, y = X_val[i], Y_val[i]\n",
    "    prev_s = np.zeros((hidden_dim, 1))\n",
    "    # For each time step...\n",
    "    for t in range(T):\n",
    "        mulu = np.dot(U, x)\n",
    "        mulw = np.dot(W, prev_s)\n",
    "        add = mulw + mulu\n",
    "        s = sigmoid(add)\n",
    "        mulv = np.dot(V, s)\n",
    "        prev_s = s\n",
    "\n",
    "    preds.append(mulv)\n",
    "    \n",
    "preds = np.array(preds)\n",
    "\n",
    "plt.plot(preds[:, 0, 0], 'g')\n",
    "plt.plot(Y_val[:, 0], 'r')\n",
    "plt.show()"
   ]
  },
  {
   "cell_type": "markdown",
   "metadata": {},
   "source": [
    "# Machine Translation: French -> English"
   ]
  },
  {
   "cell_type": "code",
   "execution_count": 1,
   "metadata": {},
   "outputs": [],
   "source": [
    "# Importing.... \n",
    "import numpy as np\n",
    "import torch\n",
    "from torch import nn\n",
    "from torch.nn import functional as F\n",
    "import torch.optim as optim\n",
    "\n",
    "import numpy as np\n",
    "import pandas as pd\n",
    "\n",
    "import os\n",
    "import re\n",
    "import random\n",
    "\n",
    "device = torch.device(\"cuda\" if torch.cuda.is_available() else \"cpu\")"
   ]
  },
  {
   "cell_type": "markdown",
   "metadata": {},
   "source": [
    "## Download Data"
   ]
  },
  {
   "cell_type": "code",
   "execution_count": 2,
   "metadata": {},
   "outputs": [
    {
     "name": "stdout",
     "output_type": "stream",
     "text": [
      "--2024-02-28 12:08:48--  http://www.manythings.org/anki/fra-eng.zip\n",
      "Resolving www.manythings.org (www.manythings.org)... 173.254.30.110\n",
      "Connecting to www.manythings.org (www.manythings.org)|173.254.30.110|:80... connected.\n",
      "HTTP request sent, awaiting response... 200 OK\n",
      "Length: 7833145 (7.5M) [application/zip]\n",
      "Saving to: ‘fra-eng.zip’\n",
      "\n",
      "fra-eng.zip         100%[===================>]   7.47M  1001KB/s    in 23s     \n",
      "\n",
      "2024-02-28 12:09:14 (334 KB/s) - ‘fra-eng.zip’ saved [7833145/7833145]\n",
      "\n",
      "Archive:  fra-eng.zip\n",
      "  inflating: _about.txt              \n",
      "  inflating: fra.txt                 \n"
     ]
    }
   ],
   "source": [
    "!wget http://www.manythings.org/anki/fra-eng.zip\n",
    "!unzip fra-eng.zip"
   ]
  },
  {
   "cell_type": "markdown",
   "metadata": {},
   "source": [
    "## Preparing Vocabulary"
   ]
  },
  {
   "cell_type": "code",
   "execution_count": 6,
   "metadata": {},
   "outputs": [],
   "source": [
    "SOS_token = 0\n",
    "EOS_token = 1\n",
    "MAX_LENGTH = 5 # 20\n",
    "\n",
    "#initialize Lang Class\n",
    "class Lang:\n",
    "   def __init__(self):\n",
    "       #initialize containers to hold the words and corresponding index\n",
    "       self.word2index = {}\n",
    "       self.word2count = {}\n",
    "       self.index2word = {0: \"SOS\", 1: \"EOS\"}\n",
    "       self.n_words = 2  # Count SOS and EOS\n",
    "\n",
    "   # split a sentence into words and add it to the container\n",
    "   def addSentence(self, sentence):\n",
    "       for word in sentence.split(' '):\n",
    "           self.addWord(word)\n",
    "\n",
    "  # If the word is not in the container, the word will be added to it, \n",
    "  # else, update the word counter\n",
    "   def addWord(self, word):\n",
    "       if word not in self.word2index:\n",
    "           self.word2index[word] = self.n_words\n",
    "           self.word2count[word] = 1\n",
    "           self.index2word[self.n_words] = word\n",
    "           self.n_words += 1\n",
    "       else:\n",
    "           self.word2count[word] += 1"
   ]
  },
  {
   "cell_type": "markdown",
   "metadata": {},
   "source": [
    "## Preprocessing"
   ]
  },
  {
   "cell_type": "code",
   "execution_count": 7,
   "metadata": {},
   "outputs": [],
   "source": [
    "# Normalize every sentence\n",
    "def normalize_sentence(df, lang):\n",
    "   sentence = df[lang].str.lower()\n",
    "   sentence = sentence.str.replace('[^A-Za-z\\s]+', '')\n",
    "   sentence = sentence.str.normalize('NFD')\n",
    "   sentence = sentence.str.encode('ascii', errors='ignore').str.decode('utf-8')\n",
    "   return sentence\n",
    "\n",
    "def read_sentence(df, lang1, lang2):\n",
    "   sentence1 = normalize_sentence(df, lang1)\n",
    "   sentence2 = normalize_sentence(df, lang2)\n",
    "   return sentence1, sentence2\n",
    "\n",
    "def read_file(loc, lang1, lang2):\n",
    "   df = pd.read_csv(loc, sep='\\t', header=None, \n",
    "                    names=[lang1, lang2, 'attribution'])\n",
    "   return df\n",
    "\n",
    "def process_data(file, lang1,lang2):\n",
    "   df = read_file(file, lang1, lang2)\n",
    "   print(\"Read %s sentence pairs\" % len(df))\n",
    "   sentence1, sentence2 = read_sentence(df, lang1, lang2)\n",
    "\n",
    "   source = Lang()\n",
    "   target = Lang()\n",
    "   pairs = []\n",
    "   for i in range(len(df)):\n",
    "       if len(sentence1[i].split(' ')) < MAX_LENGTH and \\\n",
    "          len(sentence2[i].split(' ')) < MAX_LENGTH:\n",
    "           full = [sentence1[i], sentence2[i]]\n",
    "           source.addSentence(sentence1[i])\n",
    "           target.addSentence(sentence2[i])\n",
    "           pairs.append(full)\n",
    "\n",
    "   return source, target, pairs"
   ]
  },
  {
   "cell_type": "code",
   "execution_count": 8,
   "metadata": {},
   "outputs": [
    {
     "data": {
      "text/html": [
       "<div>\n",
       "<style scoped>\n",
       "    .dataframe tbody tr th:only-of-type {\n",
       "        vertical-align: middle;\n",
       "    }\n",
       "\n",
       "    .dataframe tbody tr th {\n",
       "        vertical-align: top;\n",
       "    }\n",
       "\n",
       "    .dataframe thead th {\n",
       "        text-align: right;\n",
       "    }\n",
       "</style>\n",
       "<table border=\"1\" class=\"dataframe\">\n",
       "  <thead>\n",
       "    <tr style=\"text-align: right;\">\n",
       "      <th></th>\n",
       "      <th>eng</th>\n",
       "      <th>fra</th>\n",
       "      <th>attribution</th>\n",
       "    </tr>\n",
       "  </thead>\n",
       "  <tbody>\n",
       "    <tr>\n",
       "      <th>0</th>\n",
       "      <td>Go.</td>\n",
       "      <td>Va !</td>\n",
       "      <td>CC-BY 2.0 (France) Attribution: tatoeba.org #2...</td>\n",
       "    </tr>\n",
       "    <tr>\n",
       "      <th>1</th>\n",
       "      <td>Go.</td>\n",
       "      <td>Marche.</td>\n",
       "      <td>CC-BY 2.0 (France) Attribution: tatoeba.org #2...</td>\n",
       "    </tr>\n",
       "    <tr>\n",
       "      <th>2</th>\n",
       "      <td>Go.</td>\n",
       "      <td>En route !</td>\n",
       "      <td>CC-BY 2.0 (France) Attribution: tatoeba.org #2...</td>\n",
       "    </tr>\n",
       "    <tr>\n",
       "      <th>3</th>\n",
       "      <td>Go.</td>\n",
       "      <td>Bouge !</td>\n",
       "      <td>CC-BY 2.0 (France) Attribution: tatoeba.org #2...</td>\n",
       "    </tr>\n",
       "    <tr>\n",
       "      <th>4</th>\n",
       "      <td>Hi.</td>\n",
       "      <td>Salut !</td>\n",
       "      <td>CC-BY 2.0 (France) Attribution: tatoeba.org #5...</td>\n",
       "    </tr>\n",
       "  </tbody>\n",
       "</table>\n",
       "</div>"
      ],
      "text/plain": [
       "   eng         fra                                        attribution\n",
       "0  Go.        Va !  CC-BY 2.0 (France) Attribution: tatoeba.org #2...\n",
       "1  Go.     Marche.  CC-BY 2.0 (France) Attribution: tatoeba.org #2...\n",
       "2  Go.  En route !  CC-BY 2.0 (France) Attribution: tatoeba.org #2...\n",
       "3  Go.     Bouge !  CC-BY 2.0 (France) Attribution: tatoeba.org #2...\n",
       "4  Hi.     Salut !  CC-BY 2.0 (France) Attribution: tatoeba.org #5..."
      ]
     },
     "execution_count": 8,
     "metadata": {},
     "output_type": "execute_result"
    }
   ],
   "source": [
    "df = read_file('fra.txt', 'eng', 'fra')\n",
    "df.head()"
   ]
  },
  {
   "cell_type": "markdown",
   "metadata": {},
   "source": [
    "## Read and Process Data"
   ]
  },
  {
   "cell_type": "code",
   "execution_count": 9,
   "metadata": {},
   "outputs": [
    {
     "name": "stdout",
     "output_type": "stream",
     "text": [
      "Read 229803 sentence pairs\n"
     ]
    },
    {
     "name": "stderr",
     "output_type": "stream",
     "text": [
      "/tmp/ipykernel_288650/1061419661.py:4: FutureWarning: The default value of regex will change from True to False in a future version.\n",
      "  sentence = sentence.str.replace('[^A-Za-z\\s]+', '')\n"
     ]
    },
    {
     "name": "stdout",
     "output_type": "stream",
     "text": [
      "random sentence ['i like watermelon', 'jaime la pastque']\n",
      "Input : 6412, Output : 11991\n"
     ]
    }
   ],
   "source": [
    "lang1 = 'eng'\n",
    "lang2 = 'fra'\n",
    "file = 'fra.txt'\n",
    "source, target, pairs = process_data(file, lang1, lang2)\n",
    "\n",
    "randomize = random.choice(pairs)\n",
    "print('random sentence {}'.format(randomize))\n",
    "\n",
    "# print number of words\n",
    "input_size = source.n_words\n",
    "output_size = target.n_words\n",
    "print('Input : {}, Output : {}'.format(input_size, output_size))"
   ]
  },
  {
   "cell_type": "code",
   "execution_count": 10,
   "metadata": {},
   "outputs": [
    {
     "data": {
      "text/plain": [
       "([['go', 'va '],\n",
       "  ['go', 'marche'],\n",
       "  ['go', 'en route '],\n",
       "  ['go', 'bouge '],\n",
       "  ['hi', 'salut ']],\n",
       " [['congratulations on your anniversary',\n",
       "   'flicitations pour ton anniversaire'],\n",
       "  ['im studying electrical engineering', 'jtudie le gnie lectrique'],\n",
       "  ['their relationship is deteriorating', 'leur relation se dtriore'],\n",
       "  ['he studies computational linguistics',\n",
       "   'il tudie linformatique linguistique'],\n",
       "  ['thirteen passengers were hospitalized',\n",
       "   'treize passagres furent hospitalises']])"
      ]
     },
     "execution_count": 10,
     "metadata": {},
     "output_type": "execute_result"
    }
   ],
   "source": [
    "pairs[:5], pairs[-5:]"
   ]
  },
  {
   "cell_type": "code",
   "execution_count": 11,
   "metadata": {},
   "outputs": [
    {
     "name": "stdout",
     "output_type": "stream",
     "text": [
      "id 0, source: SOS\n",
      "id 2, source: go\n",
      "id 5, source: who\n",
      "id 10, source: hide\n",
      "id 40, source: hunt\n",
      "id 12, target: filez\n",
      "id 22, target: baissezvous\n",
      "id 34, target: commencez\n",
      "id 11, target: file\n",
      "id 42, target: aha\n"
     ]
    }
   ],
   "source": [
    "ids = [0, 2, 5, 10, 40]\n",
    "for i in ids:\n",
    "  print(f'id {i}, source: {source.index2word[i]}')\n",
    "\n",
    "ids = [12, 22, 34, 11, 42]\n",
    "for i in ids:\n",
    "  print(f'id {i}, target: {target.index2word[i]}')"
   ]
  },
  {
   "cell_type": "code",
   "execution_count": 12,
   "metadata": {},
   "outputs": [
    {
     "data": {
      "text/plain": [
       "(40, 17)"
      ]
     },
     "execution_count": 12,
     "metadata": {},
     "output_type": "execute_result"
    }
   ],
   "source": [
    "target.word2index['je'], source.word2index['i']"
   ]
  },
  {
   "cell_type": "code",
   "execution_count": 13,
   "metadata": {},
   "outputs": [
    {
     "data": {
      "text/plain": [
       "(1266, 144)"
      ]
     },
     "execution_count": 13,
     "metadata": {},
     "output_type": "execute_result"
    }
   ],
   "source": [
    "target.word2count['suis'], source.word2count['am']"
   ]
  },
  {
   "cell_type": "markdown",
   "metadata": {},
   "source": [
    "## Tensors from sentences"
   ]
  },
  {
   "cell_type": "code",
   "execution_count": 14,
   "metadata": {},
   "outputs": [],
   "source": [
    "def indexesFromSentence(lang, sentence):\n",
    "   return [lang.word2index[word] for word in sentence.split(' ')]\n",
    "\n",
    "def tensorFromSentence(lang, sentence):\n",
    "   indexes = indexesFromSentence(lang, sentence)\n",
    "   indexes.append(EOS_token)\n",
    "   return torch.tensor(indexes, dtype=torch.long, device=device).view(-1, 1)\n",
    "\n",
    "def tensorsFromPair(input_lang, output_lang, pair):\n",
    "   input_tensor = tensorFromSentence(input_lang, pair[0])\n",
    "   target_tensor = tensorFromSentence(output_lang, pair[1])\n",
    "   return (input_tensor, target_tensor)"
   ]
  },
  {
   "cell_type": "code",
   "execution_count": 15,
   "metadata": {},
   "outputs": [
    {
     "name": "stdout",
     "output_type": "stream",
     "text": [
      "he 85\n",
      "is 295\n",
      "old 296\n"
     ]
    }
   ],
   "source": [
    "sentence = pairs[1000][0]\n",
    "l = source\n",
    "for word in sentence.split(' '):\n",
    "  print(word, l.word2index[word])"
   ]
  },
  {
   "cell_type": "code",
   "execution_count": 16,
   "metadata": {},
   "outputs": [
    {
     "name": "stdout",
     "output_type": "stream",
     "text": [
      "['he is old', 'il est vieux']\n",
      "tensor([[ 85],\n",
      "        [295],\n",
      "        [296],\n",
      "        [  1]], device='cuda:0')\n",
      "tensor([[127],\n",
      "        [243],\n",
      "        [689],\n",
      "        [  1]], device='cuda:0')\n"
     ]
    }
   ],
   "source": [
    "in_t, out_t = tensorsFromPair(source, target, pairs[1000])\n",
    "print(pairs[1000])\n",
    "print(in_t)\n",
    "print(out_t)"
   ]
  },
  {
   "cell_type": "markdown",
   "metadata": {},
   "source": [
    "## Encoder"
   ]
  },
  {
   "cell_type": "code",
   "execution_count": 17,
   "metadata": {},
   "outputs": [],
   "source": [
    "class Encoder(nn.Module):\n",
    "   def __init__(self, input_dim, hidden_dim, embedding_dim, num_layers):\n",
    "       super(Encoder, self).__init__()\n",
    "      \n",
    "       # set the encoder input dimension, embedding dimension, \n",
    "       # hidden dimesion, and number of layers \n",
    "       self.input_dim = input_dim\n",
    "       self.embedding_dim = embedding_dim\n",
    "       self.hidden_dim = hidden_dim\n",
    "       self.num_layers = num_layers\n",
    "\n",
    "       #initialize the embedding layer with input and embedding dimension\n",
    "       self.embedding = nn.Embedding(input_dim, self.embedding_dim)\n",
    "       \n",
    "       # intialize the GRU to take the input dimension of embedding, and output \n",
    "       # dimension of hidden and set the number of gru layers\n",
    "       self.gru = nn.GRU(self.embedding_dim, self.hidden_dim, \n",
    "                         num_layers=self.num_layers)\n",
    "              \n",
    "   def forward(self, input, hidden):\n",
    "       embedded = self.embedding(input).view(1,1,-1)\n",
    "       outputs, hidden = self.gru(embedded, hidden)\n",
    "       return outputs, hidden\n",
    "  \n",
    "   def init_hidden(self):\n",
    "      return torch.zeros(self.num_layers, 1, self.hidden_dim)"
   ]
  },
  {
   "cell_type": "code",
   "execution_count": null,
   "metadata": {},
   "outputs": [],
   "source": []
  },
  {
   "cell_type": "markdown",
   "metadata": {},
   "source": [
    "## Decoder"
   ]
  },
  {
   "cell_type": "code",
   "execution_count": 18,
   "metadata": {},
   "outputs": [],
   "source": [
    "class Decoder(nn.Module):\n",
    "   def __init__(self, output_dim, hidden_dim, embedding_dim, num_layers):\n",
    "       super(Decoder, self).__init__()\n",
    "\n",
    "       # set the encoder output dimension, embedding dimension, \n",
    "       # hidden dimension, and number of layers \n",
    "       self.embedding_dim = embedding_dim\n",
    "       self.hidden_dim = hidden_dim\n",
    "       self.output_dim = output_dim\n",
    "       self.num_layers = num_layers\n",
    "\n",
    "       # initialize every layer with the appropriate dimension. \n",
    "       # For the decoder layer, it will consist of an embedding, \n",
    "       # GRU, a Linear layer and a Log softmax activation function.\n",
    "       self.embedding = nn.Embedding(output_dim, self.embedding_dim)\n",
    "       self.gru = nn.GRU(self.embedding_dim, self.hidden_dim, \n",
    "                         num_layers=self.num_layers)\n",
    "       self.out = nn.Linear(self.hidden_dim, output_dim)\n",
    "       self.softmax = nn.LogSoftmax(dim=1)\n",
    "      \n",
    "   def forward(self, input, hidden):\n",
    "       # reshape the input to (1, batch_size)\n",
    "       input = input.view(1, -1)\n",
    "       embedded = F.relu(self.embedding(input))\n",
    "       output, hidden = self.gru(embedded, hidden)       \n",
    "       prediction = self.softmax(self.out(output[0]))\n",
    "       \n",
    "       return prediction, hidden"
   ]
  },
  {
   "cell_type": "markdown",
   "metadata": {},
   "source": [
    "## Seq2Seq Model"
   ]
  },
  {
   "cell_type": "code",
   "execution_count": 19,
   "metadata": {},
   "outputs": [],
   "source": [
    "class Seq2Seq(nn.Module):\n",
    "   def __init__(self, encoder, decoder, device):\n",
    "       super().__init__()\n",
    "      \n",
    "       # initialize the encoder and decoder\n",
    "       self.encoder = encoder\n",
    "       self.decoder = decoder\n",
    "       self.device = device\n",
    "       self.encoder_hidden = self.encoder.init_hidden().to(self.device)\n",
    "\n",
    "   def forward(self, source, target, teacher_forcing_ratio=0.5):\n",
    "       # get the input length (number of words in sentence)\n",
    "       input_length = source.size(0) \n",
    "       \n",
    "       batch_size = source.shape[1] # target.shape[1]\n",
    "       target_length = target.shape[0]\n",
    "\n",
    "       vocab_size = self.decoder.output_dim\n",
    "      \n",
    "       # initialize a variable to hold the predicted outputs\n",
    "       outputs = torch.zeros(target_length, batch_size, \n",
    "                             vocab_size).to(self.device)\n",
    "\n",
    "       # encode every word in a sentence\n",
    "       encoder_hidden = self.encoder_hidden \n",
    "       for i in range(input_length):\n",
    "           encoder_output, encoder_hidden = self.encoder(source[i], \n",
    "                                                         encoder_hidden)\n",
    "\n",
    "       # use the encoder’s hidden state as the decoder initial hidden state\n",
    "       decoder_hidden = encoder_hidden.to(device)\n",
    "  \n",
    "       # add a token before the first predicted word\n",
    "       decoder_input = torch.tensor([SOS_token], device=device)  # SOS\n",
    "\n",
    "       # topk is used to get the top K value over a list\n",
    "       # predict the output word from the current target word. \n",
    "       # If we enable the teaching force,  then the #next decoder input is the \n",
    "       # next word, else, use the decoder output highest value. \n",
    "       for t in range(target_length):   \n",
    "           decoder_output, decoder_hidden = self.decoder(decoder_input, \n",
    "                                                         decoder_hidden)\n",
    "           outputs[t] = decoder_output\n",
    "           teacher_force = random.random() < teacher_forcing_ratio\n",
    "           topv, topi = decoder_output.topk(1)\n",
    "           decoder_input = (target[t] if teacher_force else topi)\n",
    "           if (teacher_force == False and decoder_input.item() == EOS_token):\n",
    "               break\n",
    "\n",
    "       return outputs"
   ]
  },
  {
   "cell_type": "code",
   "execution_count": 20,
   "metadata": {},
   "outputs": [],
   "source": [
    "embed_size = 256\n",
    "hidden_size = 512\n",
    "num_layers = 1\n",
    "num_iteration = 50000\n",
    "\n",
    "#create encoder-decoder model\n",
    "encoder = Encoder(input_size, hidden_size, embed_size, num_layers)\n",
    "decoder = Decoder(output_size, hidden_size, embed_size, num_layers)\n",
    "\n",
    "model = Seq2Seq(encoder, decoder, device).to(device)"
   ]
  },
  {
   "cell_type": "code",
   "execution_count": 21,
   "metadata": {},
   "outputs": [
    {
     "name": "stdout",
     "output_type": "stream",
     "text": [
      "Encoder(\n",
      "  (embedding): Embedding(6412, 256)\n",
      "  (gru): GRU(256, 512)\n",
      ")\n",
      "Decoder(\n",
      "  (embedding): Embedding(11991, 256)\n",
      "  (gru): GRU(256, 512)\n",
      "  (out): Linear(in_features=512, out_features=11991, bias=True)\n",
      "  (softmax): LogSoftmax(dim=1)\n",
      ")\n"
     ]
    }
   ],
   "source": [
    "#print model \n",
    "print(encoder)\n",
    "print(decoder)"
   ]
  },
  {
   "cell_type": "markdown",
   "metadata": {},
   "source": [
    "## Training the Seq2Seq Model"
   ]
  },
  {
   "cell_type": "code",
   "execution_count": 22,
   "metadata": {},
   "outputs": [],
   "source": [
    "teacher_forcing_ratio = 0.5\n",
    "\n",
    "# Training step and return loss \n",
    "def model_step(model, input_tensor, target_tensor, model_optimizer, criterion):\n",
    "   model_optimizer.zero_grad()\n",
    "\n",
    "   input_length = input_tensor.size(0)\n",
    "   loss = 0\n",
    "   epoch_loss = 0\n",
    "\n",
    "   output = model(input_tensor, target_tensor)\n",
    "   num_iter = output.size(0)\n",
    "\n",
    "   # calculate the loss from a predicted sentence with the expected result\n",
    "   for ot in range(num_iter):\n",
    "       loss += criterion(output[ot], target_tensor[ot])\n",
    "\n",
    "   loss.backward()\n",
    "   model_optimizer.step()\n",
    "   epoch_loss = loss.item() / num_iter\n",
    "\n",
    "   return epoch_loss\n",
    "\n",
    "# Training Loop \n",
    "def trainModel(model, source, target, pairs, num_iteration=20000):\n",
    "   model.train()\n",
    "\n",
    "   optimizer = optim.SGD(model.parameters(), lr=0.01)\n",
    "   criterion = nn.NLLLoss()\n",
    "   total_loss_iterations = 0\n",
    "\n",
    "   training_pairs = [tensorsFromPair(source, target, random.choice(pairs))\n",
    "                     for i in range(num_iteration)]\n",
    "  \n",
    "   for iter in range(1, num_iteration+1):\n",
    "       training_pair = training_pairs[iter - 1]\n",
    "       input_tensor = training_pair[0]\n",
    "       target_tensor = training_pair[1]\n",
    "\n",
    "       loss = model_step(model, input_tensor, target_tensor, \n",
    "                         optimizer, criterion)\n",
    "\n",
    "       total_loss_iterations += loss\n",
    "\n",
    "       if iter % 500 == 0:\n",
    "           avarage_loss= total_loss_iterations / 5000\n",
    "           total_loss_iterations = 0\n",
    "           print('%d %.4f' % (iter, avarage_loss))\n",
    "          \n",
    "   return model"
   ]
  },
  {
   "cell_type": "code",
   "execution_count": 23,
   "metadata": {},
   "outputs": [
    {
     "name": "stdout",
     "output_type": "stream",
     "text": [
      "500 0.5214\n",
      "1000 0.5384\n",
      "1500 0.5229\n",
      "2000 0.5145\n",
      "2500 0.4988\n",
      "3000 0.4822\n",
      "3500 0.4848\n",
      "4000 0.4662\n",
      "4500 0.4666\n",
      "5000 0.4614\n",
      "5500 0.4610\n",
      "6000 0.4508\n",
      "6500 0.4416\n",
      "7000 0.4451\n",
      "7500 0.4314\n",
      "8000 0.4233\n",
      "8500 0.4174\n",
      "9000 0.4263\n",
      "9500 0.4116\n",
      "10000 0.4030\n",
      "10500 0.3966\n",
      "11000 0.4020\n",
      "11500 0.4031\n",
      "12000 0.3956\n",
      "12500 0.4020\n",
      "13000 0.3973\n",
      "13500 0.3832\n",
      "14000 0.3861\n",
      "14500 0.3841\n",
      "15000 0.3796\n",
      "15500 0.3668\n",
      "16000 0.3704\n",
      "16500 0.3682\n",
      "17000 0.3722\n",
      "17500 0.3548\n",
      "18000 0.3655\n",
      "18500 0.3494\n",
      "19000 0.3545\n",
      "19500 0.3472\n",
      "20000 0.3502\n",
      "20500 0.3494\n",
      "21000 0.3454\n",
      "21500 0.3305\n",
      "22000 0.3353\n",
      "22500 0.3350\n",
      "23000 0.3333\n",
      "23500 0.3289\n",
      "24000 0.3236\n",
      "24500 0.3174\n",
      "25000 0.3188\n",
      "25500 0.3096\n",
      "26000 0.3154\n",
      "26500 0.3159\n",
      "27000 0.3079\n",
      "27500 0.3109\n",
      "28000 0.3045\n",
      "28500 0.3004\n",
      "29000 0.3195\n",
      "29500 0.3006\n",
      "30000 0.2862\n",
      "30500 0.2982\n",
      "31000 0.2891\n",
      "31500 0.2895\n",
      "32000 0.2977\n",
      "32500 0.2859\n",
      "33000 0.2856\n",
      "33500 0.2860\n",
      "34000 0.2870\n",
      "34500 0.2781\n",
      "35000 0.2889\n",
      "35500 0.2773\n",
      "36000 0.2834\n",
      "36500 0.2757\n",
      "37000 0.2814\n",
      "37500 0.2708\n",
      "38000 0.2743\n",
      "38500 0.2825\n",
      "39000 0.2668\n",
      "39500 0.2575\n",
      "40000 0.2610\n",
      "40500 0.2708\n",
      "41000 0.2648\n",
      "41500 0.2690\n",
      "42000 0.2576\n",
      "42500 0.2508\n",
      "43000 0.2583\n",
      "43500 0.2522\n",
      "44000 0.2474\n",
      "44500 0.2539\n",
      "45000 0.2506\n",
      "45500 0.2408\n",
      "46000 0.2604\n",
      "46500 0.2444\n",
      "47000 0.2333\n",
      "47500 0.2342\n",
      "48000 0.2351\n",
      "48500 0.2396\n",
      "49000 0.2514\n",
      "49500 0.2481\n",
      "50000 0.2285\n"
     ]
    }
   ],
   "source": [
    "model = trainModel(model, source, target, pairs, num_iteration)"
   ]
  },
  {
   "cell_type": "code",
   "execution_count": 24,
   "metadata": {},
   "outputs": [
    {
     "data": {
      "text/plain": [
       "('show me your hands', 'montrezmoi vos mains')"
      ]
     },
     "execution_count": 24,
     "metadata": {},
     "output_type": "execute_result"
    }
   ],
   "source": [
    "eng_eg, fra_eg = random.choice(pairs)\n",
    "eng_eg, fra_eg"
   ]
  },
  {
   "cell_type": "code",
   "execution_count": 25,
   "metadata": {},
   "outputs": [],
   "source": [
    "input_tensor = tensorFromSentence(source, eng_eg)\n",
    "output_tensor = tensorFromSentence(target, fra_eg)"
   ]
  },
  {
   "cell_type": "code",
   "execution_count": 26,
   "metadata": {},
   "outputs": [
    {
     "data": {
      "text/plain": [
       "(tensor([[[-11.2471, -14.6182,  -7.7197,  ..., -12.1450, -11.3805, -11.6743]],\n",
       " \n",
       "         [[-13.8141,  -8.3680,  -9.8897,  ..., -13.8308, -13.7653, -13.5783]],\n",
       " \n",
       "         [[-13.5060, -10.7426, -13.2951,  ..., -13.6359, -13.3900, -13.8403]],\n",
       " \n",
       "         [[-11.7364,  -1.0048, -10.0167,  ..., -11.4796, -11.5760, -11.6856]]],\n",
       "        device='cuda:0', grad_fn=<CopySlices>),\n",
       " torch.Size([4, 1, 11991]))"
      ]
     },
     "execution_count": 26,
     "metadata": {},
     "output_type": "execute_result"
    }
   ],
   "source": [
    "output = model(input_tensor, output_tensor)\n",
    "output, output.shape"
   ]
  },
  {
   "cell_type": "code",
   "execution_count": 27,
   "metadata": {},
   "outputs": [
    {
     "data": {
      "text/plain": [
       "torch.return_types.topk(\n",
       "values=tensor([[-1.9463]], device='cuda:0', grad_fn=<TopkBackward0>),\n",
       "indices=tensor([[335]], device='cuda:0'))"
      ]
     },
     "execution_count": 27,
     "metadata": {},
     "output_type": "execute_result"
    }
   ],
   "source": [
    "output[0].topk(1)"
   ]
  },
  {
   "cell_type": "code",
   "execution_count": 28,
   "metadata": {},
   "outputs": [
    {
     "name": "stdout",
     "output_type": "stream",
     "text": [
      "tensor([[335]], device='cuda:0') montrezmoi\n",
      "tensor([[635]], device='cuda:0') tes\n",
      "tensor([[5949]], device='cuda:0') mains\n"
     ]
    }
   ],
   "source": [
    "decoded_words = []\n",
    "for ot in range(output.size(0)):\n",
    "    top_value, top_index = output[ot].topk(1)\n",
    "\n",
    "    if top_index[0].item() == EOS_token:\n",
    "        decoded_words.append('<EOS>')\n",
    "        break\n",
    "    else:\n",
    "        word = target.index2word[top_index[0].item()]\n",
    "        decoded_words.append(word)\n",
    "        print(top_index, word)"
   ]
  },
  {
   "cell_type": "code",
   "execution_count": 29,
   "metadata": {},
   "outputs": [
    {
     "data": {
      "text/plain": [
       "['montrezmoi', 'tes', 'mains', '<EOS>']"
      ]
     },
     "execution_count": 29,
     "metadata": {},
     "output_type": "execute_result"
    }
   ],
   "source": [
    "decoded_words"
   ]
  },
  {
   "cell_type": "markdown",
   "metadata": {},
   "source": [
    "## Evaluate Model Predictions"
   ]
  },
  {
   "cell_type": "code",
   "execution_count": 30,
   "metadata": {},
   "outputs": [],
   "source": [
    "def evaluate(model, input_lang, output_lang, sentences, max_length=MAX_LENGTH):\n",
    "   with torch.no_grad():\n",
    "       input_tensor = tensorFromSentence(input_lang, sentences[0])\n",
    "       output_tensor = tensorFromSentence(output_lang, sentences[1])\n",
    "  \n",
    "       decoded_words = []\n",
    "  \n",
    "       output = model(input_tensor, output_tensor, teacher_forcing_ratio=0)\n",
    "  \n",
    "       for ot in range(output.size(0)):\n",
    "           topv, topi = output[ot].topk(1)\n",
    "\n",
    "           if topi[0].item() == EOS_token:\n",
    "               decoded_words.append('<EOS>')\n",
    "               break\n",
    "           else:\n",
    "               decoded_words.append(output_lang.index2word[topi[0].item()])\n",
    "   return decoded_words\n",
    "\n",
    "def evaluateRandomly(model, source, target, pairs, n=10):\n",
    "   for i in range(n):\n",
    "       pair = random.choice(pairs)\n",
    "       print('source: {}'.format(pair[0]))\n",
    "       print('target: {}'.format(pair[1]))\n",
    "       output_words = evaluate(model, source, target, pair)\n",
    "       output_sentence = ' '.join(output_words)\n",
    "       print('predicted: {}'.format(output_sentence))\n",
    "       print('----')"
   ]
  },
  {
   "cell_type": "code",
   "execution_count": 31,
   "metadata": {},
   "outputs": [
    {
     "name": "stdout",
     "output_type": "stream",
     "text": [
      "source: i drink a lot\n",
      "target: je bois beaucoup\n",
      "predicted: je sais beaucoup <EOS>\n",
      "----\n",
      "source: you must control yourself\n",
      "target: vous devez vous contrler\n",
      "predicted: vous devez te dpcher <EOS>\n",
      "----\n",
      "source: this doesnt fit\n",
      "target: a ne colle pas\n",
      "predicted: a ne pas pas <EOS>\n",
      "----\n",
      "source: im first\n",
      "target: je suis en premier\n",
      "predicted: je suis en <EOS>\n",
      "----\n",
      "source: correct the underlined words\n",
      "target: corrige les mots souligns\n",
      "predicted: voil les prix <EOS>\n",
      "----\n",
      "source: i forgot my key\n",
      "target: jai oubli ma cl\n",
      "predicted: jai oubli mon cl <EOS>\n",
      "----\n",
      "source: shes an angel\n",
      "target: cest un ange\n",
      "predicted: elle est un <EOS>\n",
      "----\n",
      "source: time is running out\n",
      "target: le temps spuise\n",
      "predicted: le temps est <EOS>\n",
      "----\n",
      "source: its warm in here\n",
      "target: il fait chaud ici\n",
      "predicted: cest chaud chaud <EOS>\n",
      "----\n",
      "source: im against it\n",
      "target: je suis contre\n",
      "predicted: je suis contre <EOS>\n",
      "----\n"
     ]
    }
   ],
   "source": [
    "evaluateRandomly(model, source, target, pairs)"
   ]
  },
  {
   "cell_type": "markdown",
   "metadata": {},
   "source": [
    "## Inferences and Conclusion : State all the key observations and conclusion"
   ]
  },
  {
   "cell_type": "markdown",
   "metadata": {},
   "source": [
    "1. In order to predict the next token in a sequence, we need to represent the tokens as indices using dictionaries and convert the tokens into vectors using One hot encoding.\n",
    "\n",
    "2. The RNN model predicts the next token in the sequence given the sequence of previous tokens.\n",
    "\n",
    "3. Clipping the gradients ensure that they do not explode or vanish during the training process.\n",
    "\n",
    "4. We can perform Machine Translation using a Seq2Seq model which is a combination of Encoder and Decoder made using RNNs."
   ]
  },
  {
   "cell_type": "markdown",
   "metadata": {},
   "source": []
  },
  {
   "cell_type": "markdown",
   "metadata": {},
   "source": []
  }
 ],
 "metadata": {
  "colab": {
   "name": "Spring_22_NNDL_Lab_6.ipynb",
   "provenance": []
  },
  "kernelspec": {
   "display_name": "Python 3 (ipykernel)",
   "language": "python",
   "name": "python3"
  },
  "language_info": {
   "codemirror_mode": {
    "name": "ipython",
    "version": 3
   },
   "file_extension": ".py",
   "mimetype": "text/x-python",
   "name": "python",
   "nbconvert_exporter": "python",
   "pygments_lexer": "ipython3",
   "version": "3.10.12"
  }
 },
 "nbformat": 4,
 "nbformat_minor": 1
}
